{
 "cells": [
  {
   "cell_type": "code",
   "execution_count": 1,
   "metadata": {},
   "outputs": [],
   "source": [
    "%matplotlib inline\n",
    "import numpy as np\n",
    "from matplotlib import pyplot as plt"
   ]
  },
  {
   "cell_type": "markdown",
   "metadata": {},
   "source": [
    "## Prepare Data set"
   ]
  },
  {
   "cell_type": "code",
   "execution_count": 2,
   "metadata": {},
   "outputs": [],
   "source": [
    "Data_Base_Path = './datas/UCR_TS_Archive_2015'"
   ]
  },
  {
   "cell_type": "code",
   "execution_count": 3,
   "metadata": {
    "scrolled": true
   },
   "outputs": [
    {
     "name": "stdout",
     "output_type": "stream",
     "text": [
      "0: 50words\n",
      "1: Adiac\n",
      "2: ArrowHead\n",
      "3: Beef\n",
      "4: BeetleFly\n",
      "5: BirdChicken\n",
      "6: Car\n",
      "7: CBF\n",
      "8: ChlorineConcentration\n",
      "9: CinC_ECG_torso\n",
      "10: Coffee\n",
      "11: Computers\n",
      "12: Cricket_X\n",
      "13: Cricket_Y\n",
      "14: Cricket_Z\n",
      "15: DiatomSizeReduction\n",
      "16: DistalPhalanxOutlineAgeGroup\n",
      "17: DistalPhalanxOutlineCorrect\n",
      "18: DistalPhalanxTW\n",
      "19: Earthquakes\n",
      "20: ECG200\n",
      "21: ECG5000\n",
      "22: ECGFiveDays\n",
      "23: ElectricDevices\n",
      "24: FaceAll\n",
      "25: FaceFour\n",
      "26: FacesUCR\n",
      "27: FISH\n",
      "28: FordA\n",
      "29: FordB\n",
      "30: Gun_Point\n",
      "31: Ham\n",
      "32: HandOutlines\n",
      "33: Haptics\n",
      "34: Herring\n",
      "35: InlineSkate\n",
      "36: InsectWingbeatSound\n",
      "37: ItalyPowerDemand\n",
      "38: LargeKitchenAppliances\n",
      "39: Lighting2\n",
      "40: Lighting7\n",
      "41: MALLAT\n",
      "42: Meat\n",
      "43: MedicalImages\n",
      "44: MiddlePhalanxOutlineAgeGroup\n",
      "45: MiddlePhalanxOutlineCorrect\n",
      "46: MiddlePhalanxTW\n",
      "47: MoteStrain\n",
      "48: NonInvasiveFatalECG_Thorax1\n",
      "49: NonInvasiveFatalECG_Thorax2\n",
      "50: OliveOil\n",
      "51: OSULeaf\n",
      "52: PhalangesOutlinesCorrect\n",
      "53: Phoneme\n",
      "54: Plane\n",
      "55: ProximalPhalanxOutlineAgeGroup\n",
      "56: ProximalPhalanxOutlineCorrect\n",
      "57: ProximalPhalanxTW\n",
      "58: RefrigerationDevices\n",
      "59: ScreenType\n",
      "60: ShapeletSim\n",
      "61: ShapesAll\n",
      "62: SmallKitchenAppliances\n",
      "63: SonyAIBORobotSurface\n",
      "64: SonyAIBORobotSurfaceII\n",
      "65: StarLightCurves\n",
      "66: Strawberry\n",
      "67: SwedishLeaf\n",
      "68: Symbols\n",
      "69: synthetic_control\n",
      "70: ToeSegmentation1\n",
      "71: ToeSegmentation2\n",
      "72: Trace\n",
      "73: Two_Patterns\n",
      "74: TwoLeadECG\n",
      "75: uWaveGestureLibrary_X\n",
      "76: uWaveGestureLibrary_Y\n",
      "77: uWaveGestureLibrary_Z\n",
      "78: UWaveGestureLibraryAll\n",
      "79: wafer\n",
      "80: Wine\n",
      "81: WordsSynonyms\n",
      "82: Worms\n",
      "83: WormsTwoClass\n",
      "84: yoga\n"
     ]
    }
   ],
   "source": [
    "import os\n",
    "flist = [x for x in os.listdir(Data_Base_Path) if os.path.isdir(os.path.join(Data_Base_Path, x))]\n",
    "flist.sort(key=str.lower)\n",
    "for index, name in enumerate(flist):\n",
    "    print(\"%d: %s\"%(index, name))"
   ]
  },
  {
   "cell_type": "code",
   "execution_count": 4,
   "metadata": {},
   "outputs": [
    {
     "name": "stdout",
     "output_type": "stream",
     "text": [
      "ECGFiveDays\n"
     ]
    }
   ],
   "source": [
    "dataset_index = 22\n",
    "dataset_name = flist[dataset_index]\n",
    "print(dataset_name)"
   ]
  },
  {
   "cell_type": "code",
   "execution_count": 5,
   "metadata": {},
   "outputs": [],
   "source": [
    "epsilon = 1e-8"
   ]
  },
  {
   "cell_type": "code",
   "execution_count": 6,
   "metadata": {},
   "outputs": [],
   "source": [
    "def readData(filename):\n",
    "    data = np.loadtxt(filename, delimiter = ',')\n",
    "    Y = data[:,0]\n",
    "    X = data[:,1:]\n",
    "    return X, Y"
   ]
  },
  {
   "cell_type": "code",
   "execution_count": 7,
   "metadata": {},
   "outputs": [],
   "source": [
    "X_train, Y_train = readData('%s/%s/%s_TRAIN'%(Data_Base_Path, dataset_name, dataset_name))\n",
    "X_test, Y_test = readData('%s/%s/%s_TEST'%(Data_Base_Path, dataset_name, dataset_name))\n",
    "series_length = X_train.shape[1]\n",
    "nb_classes = len(np.unique(Y_train))\n",
    "N_train = X_train.shape[0]\n",
    "N_test = X_test.shape[0]\n",
    "Y_train = (Y_train - Y_train.min()) / (Y_train.max() - Y_train.min()) * (nb_classes - 1)\n",
    "Y_test = (Y_test - Y_test.min()) / (Y_test.max() - Y_test.min()) * (nb_classes - 1)\n",
    "\n",
    "# ## Normalization\n",
    "# X_train_mean = X_train.mean()\n",
    "# X_train_std = X_train.std()\n",
    "# X_train = (X_train - X_train.mean()) / (X_train.std() + epsilon)\n",
    "# X_test = (X_test - X_test.mean()) / (X_test.std() + epsilon)"
   ]
  },
  {
   "cell_type": "code",
   "execution_count": 8,
   "metadata": {},
   "outputs": [],
   "source": [
    "X_train = ((X_train.transpose() - X_train.mean()) / (X_train.std() + epsilon)).transpose()\n",
    "X_test = ((X_test.transpose() - X_test.mean()) / (X_test.std() + epsilon)).transpose()"
   ]
  },
  {
   "cell_type": "code",
   "execution_count": 9,
   "metadata": {},
   "outputs": [
    {
     "name": "stdout",
     "output_type": "stream",
     "text": [
      "Series length: 136\n",
      "Classes number: 2\n",
      "Train set Number: 23\n",
      "Test set Number: 861\n"
     ]
    }
   ],
   "source": [
    "print('''Series length: %d\n",
    "Classes number: %d\n",
    "Train set Number: %d\n",
    "Test set Number: %d'''%(series_length, nb_classes, N_train, N_test))"
   ]
  },
  {
   "cell_type": "code",
   "execution_count": 10,
   "metadata": {},
   "outputs": [
    {
     "data": {
      "text/plain": [
       "[<matplotlib.lines.Line2D at 0x7fcdba889320>]"
      ]
     },
     "execution_count": 10,
     "metadata": {},
     "output_type": "execute_result"
    },
    {
     "data": {
      "image/png": "[encoded data removed]",
      "text/plain": [
       "<matplotlib.figure.Figure at 0x7fcdba8d45f8>"
      ]
     },
     "metadata": {},
     "output_type": "display_data"
    }
   ],
   "source": [
    "plt.plot(X_train[0,:])"
   ]
  },
  {
   "cell_type": "markdown",
   "metadata": {},
   "source": [
    "## MFD Layers"
   ]
  },
  {
   "cell_type": "code",
   "execution_count": 11,
   "metadata": {},
   "outputs": [
    {
     "name": "stderr",
     "output_type": "stream",
     "text": [
      "Using TensorFlow backend.\n",
      "/usr/lib/python3.6/importlib/_bootstrap.py:219: RuntimeWarning: compiletime version 3.5 of module 'tensorflow.python.framework.fast_tensor_util' does not match runtime version 3.6\n",
      "  return f(*args, **kwds)\n"
     ]
    }
   ],
   "source": [
    "import keras\n",
    "from keras.engine.topology import Layer\n",
    "import tensorflow as tf"
   ]
  },
  {
   "cell_type": "code",
   "execution_count": 12,
   "metadata": {},
   "outputs": [],
   "source": [
    "class MRFFT(Layer):\n",
    "    def compute_output_shape(self,input_shape):\n",
    "        o_shape=[input_shape]*2\n",
    "        return o_shape\n",
    "    def call(self,inputs):\n",
    "        t=tf.unstack(inputs,axis=2)\n",
    "        ft=[tf.expand_dims(tf.spectral.rfft(k),-1) for k in t]\n",
    "        ft=tf.concat(ft,-1)\n",
    "        ift=tf.imag(ft)\n",
    "        return [rft,ift]\n",
    "class MIRFFT(Layer):\n",
    "    def compute_output_shape(self,input_shape):\n",
    "        return input_shape[0]\n",
    "    def call(self,inputs):\n",
    "        rft=inputs[0]\n",
    "        ift=inputs[1]\n",
    "        ft=tf.complex(rft,ift)\n",
    "        t=tf.unstack(ft,axis=2)\n",
    "        tt=[tf.expand_dims(tf.spectral.irfft(k),-1) for k in t]\n",
    "        tt=tf.concat(tt,-1)\n",
    "        return tt\n",
    "class MFD_FFT(Layer):\n",
    "    def __init__(self,in_shape,num_p,**kwargs):\n",
    "        self.num_p = num_p\n",
    "        self.in_shape=in_shape\n",
    "        super(MFD_FFT,self).__init__(**kwargs)\n",
    "        \n",
    "    def compute_output_shape(self,input_shape):\n",
    "        o_shape=input_shape[:2]+(self.num_p,input_shape[-1],)\n",
    "        return o_shape\n",
    "    \n",
    "    def call(self,inputs):\n",
    "        t=tf.unstack(inputs,axis=2)\n",
    "        ft=[tf.expand_dims(tf.spectral.rfft(k),-1) for k in t]\n",
    "        ft=tf.concat(ft,-1)\n",
    "        fshape=self.in_shape\n",
    "        \n",
    "        m=fshape%self.num_p\n",
    "        if m!=0:\n",
    "            d=fshape//(self.num_p-1)\n",
    "            _m=fshape%(self.num_p-1)\n",
    "            if _m==0:\n",
    "                _d=fshape//self.num_p-1\n",
    "                _m1=fshape-_d*(self.num_p-1)\n",
    "        else:\n",
    "            d=fshape//self.num_p\n",
    "        if m!=0:\n",
    "            if _m==0:\n",
    "                sp=tf.split(ft,[_d for _ in range(self.num_p-1)]+[_m1,],axis=1)\n",
    "            else:\n",
    "                sp=tf.split(ft,[d for _ in range(self.num_p-1)]+[_m,],axis=1)\n",
    "        else:\n",
    "            sp=tf.split(ft,[d for _ in range(self.num_p)],axis=1)\n",
    "            \n",
    "        at=None\n",
    "        for i in range(self.num_p):\n",
    "            t=None\n",
    "            for k in range(self.num_p):\n",
    "                if i!=k:\n",
    "                    tp=sp[k]*0.\n",
    "                else:\n",
    "                    tp=sp[k]*1.\n",
    "                if t is None:\n",
    "                    t=tp\n",
    "                else:\n",
    "                    t=tf.concat([t,tp],1)\n",
    "                    \n",
    "            s=t\n",
    "            ts=tf.unstack(s,axis=2)\n",
    "            ts=[tf.expand_dims(tf.spectral.irfft(k),-1) for k in ts]\n",
    "            s=tf.concat(ts,-1)\n",
    "            if at is None:\n",
    "                at=tf.expand_dims(s,2)\n",
    "            else:\n",
    "                at=tf.concat([at,tf.expand_dims(s,2)],2)\n",
    "        return at"
   ]
  },
  {
   "cell_type": "markdown",
   "metadata": {},
   "source": [
    "## Build Network Model"
   ]
  },
  {
   "cell_type": "code",
   "execution_count": 13,
   "metadata": {},
   "outputs": [],
   "source": [
    "from keras.models import Model\n",
    "from keras.utils import to_categorical\n",
    "from keras.layers import Input, Activation, GlobalAveragePooling2D\n",
    "from keras.layers import Dense,Conv1D, Conv2D, BatchNormalization\n",
    "from keras.regularizers import l1, l2, l1_l2\n",
    "from keras.callbacks import Callback, ReduceLROnPlateau, ModelCheckpoint\n",
    "from keras.optimizers import Adam\n",
    "import logging"
   ]
  },
  {
   "cell_type": "code",
   "execution_count": 14,
   "metadata": {},
   "outputs": [],
   "source": [
    "X_train = X_train.reshape(X_train.shape + (1,))\n",
    "X_test = X_test.reshape(X_test.shape + (1,))\n",
    "Y_train = to_categorical(Y_train, nb_classes)\n",
    "Y_test = to_categorical(Y_test, nb_classes)"
   ]
  },
  {
   "cell_type": "code",
   "execution_count": 15,
   "metadata": {},
   "outputs": [
    {
     "name": "stdout",
     "output_type": "stream",
     "text": [
      "_________________________________________________________________\n",
      "Layer (type)                 Output Shape              Param #   \n",
      "=================================================================\n",
      "input_1 (InputLayer)         (None, 136, 1)            0         \n",
      "_________________________________________________________________\n",
      "conv1d_1 (Conv1D)            (None, 136, 64)           576       \n",
      "_________________________________________________________________\n",
      "batch_normalization_1 (Batch (None, 136, 64)           256       \n",
      "_________________________________________________________________\n",
      "activation_1 (Activation)    (None, 136, 64)           0         \n",
      "_________________________________________________________________\n",
      "mfd_fft_1 (MFD_FFT)          (None, 136, 6, 64)        0         \n",
      "_________________________________________________________________\n",
      "batch_normalization_2 (Batch (None, 136, 6, 64)        256       \n",
      "_________________________________________________________________\n",
      "conv2d_1 (Conv2D)            (None, 136, 6, 128)       41088     \n",
      "_________________________________________________________________\n",
      "batch_normalization_3 (Batch (None, 136, 6, 128)       512       \n",
      "_________________________________________________________________\n",
      "activation_2 (Activation)    (None, 136, 6, 128)       0         \n",
      "_________________________________________________________________\n",
      "conv2d_2 (Conv2D)            (None, 134, 1, 256)       590080    \n",
      "_________________________________________________________________\n",
      "batch_normalization_4 (Batch (None, 134, 1, 256)       1024      \n",
      "_________________________________________________________________\n",
      "activation_3 (Activation)    (None, 134, 1, 256)       0         \n",
      "_________________________________________________________________\n",
      "global_average_pooling2d_1 ( (None, 256)               0         \n",
      "_________________________________________________________________\n",
      "dense_1 (Dense)              (None, 2)                 514       \n",
      "=================================================================\n",
      "Total params: 634,306\n",
      "Trainable params: 633,282\n",
      "Non-trainable params: 1,024\n",
      "_________________________________________________________________\n"
     ]
    }
   ],
   "source": [
    "## model\n",
    "input_x = Input(shape = (series_length, 1))\n",
    "y = Conv1D(64, kernel_size=8, padding='same', kernel_initializer='he_uniform', \n",
    "           kernel_regularizer=l2(1e-3), bias_regularizer=l2(1e-3))(input_x)\n",
    "y = BatchNormalization()(y)\n",
    "y = Activation('relu')(y)\n",
    "\n",
    "y = MFD_FFT(in_shape=series_length//2+1, num_p=6)(y)\n",
    "y = BatchNormalization()(y)\n",
    "y = Conv2D(128, kernel_size=(5,1), padding='same', kernel_initializer='he_uniform', \n",
    "           kernel_regularizer=l2(1e-3), bias_regularizer=l2(1e-3))(y)\n",
    "y = BatchNormalization()(y)\n",
    "y = Activation('relu')(y)\n",
    "\n",
    "y = Conv2D(256, kernel_size=(3,6), kernel_initializer='he_uniform', \n",
    "           kernel_regularizer=l2(1e-3), bias_regularizer=l2(1e-3))(y)\n",
    "y = BatchNormalization()(y)\n",
    "y = Activation('relu')(y)\n",
    "\n",
    "y = GlobalAveragePooling2D()(y)\n",
    "output_y = Dense(nb_classes, activation='softmax', \n",
    "                 kernel_regularizer=l2(1e-3), bias_regularizer=l2(1e-3))(y)\n",
    "\n",
    "model = Model(input_x, output_y)\n",
    "model.summary()"
   ]
  },
  {
   "cell_type": "code",
   "execution_count": 16,
   "metadata": {},
   "outputs": [],
   "source": [
    "logging.basicConfig(level=logging.INFO,\n",
    "                   format='%(asctime)s - %(message)s',\n",
    "                   datefmt='%Y-%m-%d %H:%M:%S',\n",
    "                   filename='./logs/log-%s.log'%dataset_name,\n",
    "                   filemode='w')"
   ]
  },
  {
   "cell_type": "code",
   "execution_count": 17,
   "metadata": {},
   "outputs": [],
   "source": [
    "def MPCE(y_true,y_pred):\n",
    "    C={}\n",
    "    for k in y_true:\n",
    "        if k in C.keys():\n",
    "            C[k]+=1\n",
    "        else:\n",
    "            C[k]=1\n",
    "    loss=0\n",
    "    for i in range(len(y_true)):\n",
    "        if y_true[i]!=y_pred[i]:\n",
    "            loss+=(1/C[y_true[i]])\n",
    "    loss/=nb_classes\n",
    "    return loss"
   ]
  },
  {
   "cell_type": "code",
   "execution_count": 18,
   "metadata": {},
   "outputs": [],
   "source": [
    "class MPCECallback(Callback):\n",
    "    def on_epoch_end(self,epoch,logs=None):\n",
    "        y_pred=np.argmax(self.model.predict(X_test),axis=1)\n",
    "        y_t=np.argmax(Y_test,axis=1)\n",
    "        l=MPCE(y_t,y_pred)\n",
    "        logs['MPCE']=l\n",
    "class HistoryLogger(Callback):\n",
    "    def on_train_begin(self,logs=None):\n",
    "        logging.warning('Begin Training............')\n",
    "        self.best_acc=0.0\n",
    "        self.best_mpce=1.0\n",
    "    def on_epoch_end(self,epoch,logs=None):\n",
    "        loss=logs['loss']\n",
    "        acc=logs['acc']*100\n",
    "        val_loss=logs['val_loss']\n",
    "        val_acc=logs['val_acc']*100\n",
    "        mpce=logs['MPCE']\n",
    "        if val_acc>=self.best_acc:\n",
    "            self.best_acc=val_acc\n",
    "        if mpce<=self.best_mpce:\n",
    "            self.best_mpce=mpce\n",
    "        logging.info('%4d - over - loss: %.4f, acc: %.2f | val_loss: %.4f, val_acc: %.2f, MPCE:%.4f | best_acc: %.2f, best_mpce:%.4f'%(epoch,loss,acc,val_loss,val_acc,mpce,self.best_acc,self.best_mpce))\n",
    "    def on_train_end(self,logs=None):\n",
    "        logging.warning('End Training............')"
   ]
  },
  {
   "cell_type": "code",
   "execution_count": 19,
   "metadata": {},
   "outputs": [],
   "source": [
    "model_checkpoint = ModelCheckpoint('./weights/%s_weights.h5' % dataset_name, \n",
    "                                   verbose=1, monitor='val_acc', save_best_only=True, \n",
    "                                   save_weights_only=True)\n",
    "reduce_lr = ReduceLROnPlateau(monitor='val_loss', patience=30, mode='auto', \n",
    "                              factor=1.0/np.cbrt(2), cooldown=0, min_lr=1e-5, verbose=1)\n",
    "callback_list = [model_checkpoint, reduce_lr, MPCECallback(), HistoryLogger()]"
   ]
  },
  {
   "cell_type": "markdown",
   "metadata": {},
   "source": [
    "## Train"
   ]
  },
  {
   "cell_type": "code",
   "execution_count": 20,
   "metadata": {},
   "outputs": [],
   "source": [
    "## 设置小的epochs，每次可以加载上次的模型参数，接着训练，便于控制和输出\n",
    "epochs = 1200\n",
    "batch_size = 20\n",
    "learning_rate = 1e-3"
   ]
  },
  {
   "cell_type": "code",
   "execution_count": 21,
   "metadata": {},
   "outputs": [],
   "source": [
    "optim = Adam(lr=learning_rate)\n",
    "model.compile(optimizer=optim, loss='categorical_crossentropy', metrics=['accuracy'])"
   ]
  },
  {
   "cell_type": "code",
   "execution_count": 22,
   "metadata": {
    "scrolled": true
   },
   "outputs": [
    {
     "name": "stdout",
     "output_type": "stream",
     "text": [
      "Train on 23 samples, validate on 861 samples\n",
      "Epoch 1/1200\n",
      "20/23 [=========================>....] - ETA: 0s - loss: 1.5581 - acc: 0.6000Epoch 00001: val_acc improved from -inf to 0.49710, saving model to ./weights/ECGFiveDays_weights.h5\n",
      "23/23 [==============================] - 21s 915ms/step - loss: 1.5492 - acc: 0.6087 - val_loss: 1.5438 - val_acc: 0.4971\n",
      "Epoch 2/1200\n",
      "20/23 [=========================>....] - ETA: 0s - loss: 1.3626 - acc: 0.7500Epoch 00002: val_acc improved from 0.49710 to 0.57143, saving model to ./weights/ECGFiveDays_weights.h5\n",
      "23/23 [==============================] - 13s 549ms/step - loss: 1.4013 - acc: 0.7391 - val_loss: 1.5145 - val_acc: 0.5714\n",
      "Epoch 3/1200\n",
      "20/23 [=========================>....] - ETA: 0s - loss: 1.3068 - acc: 0.8000Epoch 00003: val_acc improved from 0.57143 to 0.64460, saving model to ./weights/ECGFiveDays_weights.h5\n",
      "23/23 [==============================] - 12s 543ms/step - loss: 1.3151 - acc: 0.7826 - val_loss: 1.4855 - val_acc: 0.6446\n",
      "Epoch 4/1200\n",
      "20/23 [=========================>....] - ETA: 0s - loss: 1.2784 - acc: 0.8500Epoch 00004: val_acc did not improve\n",
      "23/23 [==============================] - 13s 545ms/step - loss: 1.2681 - acc: 0.8696 - val_loss: 1.4692 - val_acc: 0.5645\n",
      "Epoch 5/1200\n",
      "20/23 [=========================>....] - ETA: 0s - loss: 1.2778 - acc: 0.8000Epoch 00005: val_acc did not improve\n",
      "23/23 [==============================] - 13s 549ms/step - loss: 1.2480 - acc: 0.8261 - val_loss: 1.4484 - val_acc: 0.5517\n",
      "Epoch 6/1200\n",
      "20/23 [=========================>....] - ETA: 0s - loss: 1.1859 - acc: 0.8500Epoch 00006: val_acc did not improve\n",
      "23/23 [==============================] - 13s 545ms/step - loss: 1.1909 - acc: 0.8261 - val_loss: 1.4391 - val_acc: 0.5134\n",
      "Epoch 7/1200\n",
      "20/23 [=========================>....] - ETA: 0s - loss: 1.1020 - acc: 0.9000Epoch 00007: val_acc did not improve\n",
      "23/23 [==============================] - 13s 548ms/step - loss: 1.0915 - acc: 0.9130 - val_loss: 1.4307 - val_acc: 0.5029\n",
      "Epoch 8/1200\n",
      "20/23 [=========================>....] - ETA: 0s - loss: 1.0815 - acc: 0.9500Epoch 00008: val_acc did not improve\n",
      "23/23 [==============================] - 13s 548ms/step - loss: 1.1038 - acc: 0.9565 - val_loss: 1.3795 - val_acc: 0.5041\n",
      "Epoch 9/1200\n",
      "20/23 [=========================>....] - ETA: 0s - loss: 1.0647 - acc: 0.8500Epoch 00009: val_acc did not improve\n",
      "23/23 [==============================] - 13s 547ms/step - loss: 1.0608 - acc: 0.8696 - val_loss: 1.3096 - val_acc: 0.6272\n",
      "Epoch 10/1200\n",
      "20/23 [=========================>....] - ETA: 0s - loss: 0.9844 - acc: 1.0000Epoch 00010: val_acc improved from 0.64460 to 0.80139, saving model to ./weights/ECGFiveDays_weights.h5\n",
      "23/23 [==============================] - 13s 544ms/step - loss: 1.0283 - acc: 0.9565 - val_loss: 1.2507 - val_acc: 0.8014\n",
      "Epoch 11/1200\n",
      "20/23 [=========================>....] - ETA: 0s - loss: 0.9741 - acc: 1.0000Epoch 00011: val_acc improved from 0.80139 to 0.88037, saving model to ./weights/ECGFiveDays_weights.h5\n",
      "23/23 [==============================] - 13s 549ms/step - loss: 0.9857 - acc: 1.0000 - val_loss: 1.2158 - val_acc: 0.8804\n",
      "Epoch 12/1200\n",
      "20/23 [=========================>....] - ETA: 0s - loss: 0.9548 - acc: 0.9500Epoch 00012: val_acc did not improve\n",
      "23/23 [==============================] - 13s 547ms/step - loss: 0.9386 - acc: 0.9565 - val_loss: 1.2114 - val_acc: 0.7398\n",
      "Epoch 13/1200\n",
      "20/23 [=========================>....] - ETA: 0s - loss: 0.9247 - acc: 0.9000Epoch 00013: val_acc did not improve\n",
      "23/23 [==============================] - 13s 547ms/step - loss: 0.9374 - acc: 0.8696 - val_loss: 1.2010 - val_acc: 0.6260\n",
      "Epoch 14/1200\n",
      "20/23 [=========================>....] - ETA: 0s - loss: 0.8952 - acc: 0.9000Epoch 00014: val_acc did not improve\n",
      "23/23 [==============================] - 13s 548ms/step - loss: 0.8922 - acc: 0.9130 - val_loss: 1.1755 - val_acc: 0.6562\n",
      "Epoch 15/1200\n",
      "20/23 [=========================>....] - ETA: 0s - loss: 0.8063 - acc: 1.0000Epoch 00015: val_acc did not improve\n",
      "23/23 [==============================] - 13s 547ms/step - loss: 1.0006 - acc: 0.9130 - val_loss: 1.1566 - val_acc: 0.6852\n",
      "Epoch 16/1200\n",
      "20/23 [=========================>....] - ETA: 0s - loss: 0.7995 - acc: 1.0000Epoch 00016: val_acc did not improve\n",
      "23/23 [==============================] - 13s 548ms/step - loss: 0.7861 - acc: 1.0000 - val_loss: 1.1453 - val_acc: 0.6818\n",
      "Epoch 17/1200\n",
      "20/23 [=========================>....] - ETA: 0s - loss: 0.7809 - acc: 1.0000Epoch 00017: val_acc did not improve\n",
      "23/23 [==============================] - 13s 545ms/step - loss: 0.8226 - acc: 1.0000 - val_loss: 1.1278 - val_acc: 0.7131\n",
      "Epoch 18/1200\n",
      "20/23 [=========================>....] - ETA: 0s - loss: 0.7609 - acc: 1.0000Epoch 00018: val_acc did not improve\n",
      "23/23 [==============================] - 13s 544ms/step - loss: 0.7614 - acc: 1.0000 - val_loss: 1.1036 - val_acc: 0.7677\n",
      "Epoch 19/1200\n",
      "20/23 [=========================>....] - ETA: 0s - loss: 0.7302 - acc: 1.0000Epoch 00019: val_acc did not improve\n",
      "23/23 [==============================] - 13s 545ms/step - loss: 0.7751 - acc: 0.9565 - val_loss: 1.0833 - val_acc: 0.7979\n",
      "Epoch 20/1200\n",
      "20/23 [=========================>....] - ETA: 0s - loss: 0.7183 - acc: 1.0000Epoch 00020: val_acc did not improve\n",
      "23/23 [==============================] - 13s 547ms/step - loss: 0.7414 - acc: 1.0000 - val_loss: 1.0767 - val_acc: 0.7724\n",
      "Epoch 21/1200\n",
      "20/23 [=========================>....] - ETA: 0s - loss: 0.7203 - acc: 1.0000Epoch 00021: val_acc did not improve\n",
      "23/23 [==============================] - 13s 548ms/step - loss: 0.7379 - acc: 1.0000 - val_loss: 1.0654 - val_acc: 0.7735\n",
      "Epoch 22/1200\n",
      "20/23 [=========================>....] - ETA: 0s - loss: 0.7124 - acc: 1.0000Epoch 00022: val_acc did not improve\n",
      "23/23 [==============================] - 13s 549ms/step - loss: 0.7092 - acc: 1.0000 - val_loss: 1.0427 - val_acc: 0.8502\n",
      "Epoch 23/1200\n",
      "20/23 [=========================>....] - ETA: 0s - loss: 0.6810 - acc: 1.0000Epoch 00023: val_acc improved from 0.88037 to 0.96980, saving model to ./weights/ECGFiveDays_weights.h5\n",
      "23/23 [==============================] - 13s 550ms/step - loss: 0.7390 - acc: 0.9565 - val_loss: 1.0115 - val_acc: 0.9698\n",
      "Epoch 24/1200\n",
      "20/23 [=========================>....] - ETA: 0s - loss: 0.6588 - acc: 1.0000Epoch 00024: val_acc improved from 0.96980 to 0.98606, saving model to ./weights/ECGFiveDays_weights.h5\n",
      "23/23 [==============================] - 13s 546ms/step - loss: 0.6827 - acc: 1.0000 - val_loss: 0.9928 - val_acc: 0.9861\n",
      "Epoch 25/1200\n",
      "20/23 [=========================>....] - ETA: 0s - loss: 0.6479 - acc: 1.0000Epoch 00025: val_acc did not improve\n",
      "23/23 [==============================] - 13s 544ms/step - loss: 0.6726 - acc: 1.0000 - val_loss: 0.9897 - val_acc: 0.9663\n",
      "Epoch 26/1200\n",
      "20/23 [=========================>....] - ETA: 0s - loss: 0.6264 - acc: 1.0000Epoch 00026: val_acc did not improve\n",
      "23/23 [==============================] - 13s 544ms/step - loss: 0.6617 - acc: 1.0000 - val_loss: 0.9851 - val_acc: 0.9396\n",
      "Epoch 27/1200\n",
      "20/23 [=========================>....] - ETA: 0s - loss: 0.6101 - acc: 1.0000Epoch 00027: val_acc did not improve\n",
      "23/23 [==============================] - 13s 545ms/step - loss: 0.6203 - acc: 1.0000 - val_loss: 0.9697 - val_acc: 0.9535\n",
      "Epoch 28/1200\n",
      "20/23 [=========================>....] - ETA: 0s - loss: 0.5950 - acc: 1.0000Epoch 00028: val_acc improved from 0.98606 to 0.99419, saving model to ./weights/ECGFiveDays_weights.h5\n",
      "23/23 [==============================] - 13s 546ms/step - loss: 0.6315 - acc: 0.9565 - val_loss: 0.9480 - val_acc: 0.9942\n",
      "Epoch 29/1200\n",
      "20/23 [=========================>....] - ETA: 0s - loss: 0.5878 - acc: 1.0000Epoch 00029: val_acc did not improve\n",
      "23/23 [==============================] - 13s 545ms/step - loss: 0.5868 - acc: 1.0000 - val_loss: 0.9437 - val_acc: 0.9814\n",
      "Epoch 30/1200\n",
      "20/23 [=========================>....] - ETA: 0s - loss: 0.5781 - acc: 1.0000Epoch 00030: val_acc did not improve\n",
      "23/23 [==============================] - 13s 547ms/step - loss: 0.5898 - acc: 1.0000 - val_loss: 0.9456 - val_acc: 0.9547\n",
      "Epoch 31/1200\n",
      "20/23 [=========================>....] - ETA: 0s - loss: 0.5669 - acc: 1.0000Epoch 00031: val_acc did not improve\n"
     ]
    },
    {
     "name": "stdout",
     "output_type": "stream",
     "text": [
      "23/23 [==============================] - 13s 548ms/step - loss: 0.6122 - acc: 1.0000 - val_loss: 0.9394 - val_acc: 0.9756\n",
      "Epoch 32/1200\n",
      "20/23 [=========================>....] - ETA: 0s - loss: 0.5616 - acc: 1.0000Epoch 00032: val_acc improved from 0.99419 to 0.99652, saving model to ./weights/ECGFiveDays_weights.h5\n",
      "23/23 [==============================] - 13s 546ms/step - loss: 0.5910 - acc: 1.0000 - val_loss: 0.9313 - val_acc: 0.9965\n",
      "Epoch 33/1200\n",
      "20/23 [=========================>....] - ETA: 0s - loss: 0.5502 - acc: 1.0000Epoch 00033: val_acc improved from 0.99652 to 0.99768, saving model to ./weights/ECGFiveDays_weights.h5\n",
      "23/23 [==============================] - 13s 546ms/step - loss: 0.5561 - acc: 1.0000 - val_loss: 0.9291 - val_acc: 0.9977\n",
      "Epoch 34/1200\n",
      "20/23 [=========================>....] - ETA: 0s - loss: 0.5568 - acc: 1.0000Epoch 00034: val_acc did not improve\n",
      "23/23 [==============================] - 13s 546ms/step - loss: 0.5543 - acc: 1.0000 - val_loss: 0.9313 - val_acc: 0.9803\n",
      "Epoch 35/1200\n",
      "20/23 [=========================>....] - ETA: 0s - loss: 0.5503 - acc: 1.0000Epoch 00035: val_acc did not improve\n",
      "23/23 [==============================] - 13s 547ms/step - loss: 0.5478 - acc: 1.0000 - val_loss: 0.9325 - val_acc: 0.9559\n",
      "Epoch 36/1200\n",
      "20/23 [=========================>....] - ETA: 0s - loss: 0.5473 - acc: 1.0000Epoch 00036: val_acc did not improve\n",
      "23/23 [==============================] - 13s 546ms/step - loss: 0.5702 - acc: 1.0000 - val_loss: 0.9252 - val_acc: 0.9326\n",
      "Epoch 37/1200\n",
      "20/23 [=========================>....] - ETA: 0s - loss: 0.5368 - acc: 1.0000Epoch 00037: val_acc did not improve\n",
      "23/23 [==============================] - 13s 546ms/step - loss: 0.5348 - acc: 1.0000 - val_loss: 0.9100 - val_acc: 0.9326\n",
      "Epoch 38/1200\n",
      "20/23 [=========================>....] - ETA: 0s - loss: 0.5356 - acc: 1.0000Epoch 00038: val_acc did not improve\n",
      "23/23 [==============================] - 13s 547ms/step - loss: 0.5354 - acc: 1.0000 - val_loss: 0.8804 - val_acc: 0.9919\n",
      "Epoch 39/1200\n",
      "20/23 [=========================>....] - ETA: 0s - loss: 0.5493 - acc: 1.0000Epoch 00039: val_acc did not improve\n",
      "23/23 [==============================] - 13s 546ms/step - loss: 0.5642 - acc: 1.0000 - val_loss: 0.8490 - val_acc: 0.9954\n",
      "Epoch 40/1200\n",
      "20/23 [=========================>....] - ETA: 0s - loss: 0.5202 - acc: 1.0000Epoch 00040: val_acc did not improve\n",
      "23/23 [==============================] - 12s 543ms/step - loss: 0.5178 - acc: 1.0000 - val_loss: 0.8479 - val_acc: 0.9721\n",
      "Epoch 41/1200\n",
      "20/23 [=========================>....] - ETA: 0s - loss: 0.5117 - acc: 1.0000Epoch 00041: val_acc did not improve\n",
      "23/23 [==============================] - 12s 540ms/step - loss: 0.5104 - acc: 1.0000 - val_loss: 0.8500 - val_acc: 0.9257\n",
      "Epoch 42/1200\n",
      "20/23 [=========================>....] - ETA: 0s - loss: 0.5080 - acc: 1.0000Epoch 00042: val_acc did not improve\n",
      "23/23 [==============================] - 12s 543ms/step - loss: 0.5076 - acc: 1.0000 - val_loss: 0.8448 - val_acc: 0.9048\n",
      "Epoch 43/1200\n",
      "20/23 [=========================>....] - ETA: 0s - loss: 0.5113 - acc: 1.0000Epoch 00043: val_acc did not improve\n",
      "23/23 [==============================] - 12s 543ms/step - loss: 0.5369 - acc: 1.0000 - val_loss: 0.8391 - val_acc: 0.9048\n",
      "Epoch 44/1200\n",
      "20/23 [=========================>....] - ETA: 0s - loss: 0.4960 - acc: 1.0000Epoch 00044: val_acc did not improve\n",
      "23/23 [==============================] - 12s 542ms/step - loss: 0.5160 - acc: 1.0000 - val_loss: 0.8279 - val_acc: 0.9303\n",
      "Epoch 45/1200\n",
      "20/23 [=========================>....] - ETA: 0s - loss: 0.5000 - acc: 1.0000Epoch 00045: val_acc did not improve\n",
      "23/23 [==============================] - 12s 542ms/step - loss: 0.5187 - acc: 1.0000 - val_loss: 0.8092 - val_acc: 0.9872\n",
      "Epoch 46/1200\n",
      "20/23 [=========================>....] - ETA: 0s - loss: 0.5112 - acc: 1.0000Epoch 00046: val_acc did not improve\n",
      "23/23 [==============================] - 13s 546ms/step - loss: 0.5066 - acc: 1.0000 - val_loss: 0.8275 - val_acc: 0.9396\n",
      "Epoch 47/1200\n",
      "20/23 [=========================>....] - ETA: 0s - loss: 0.5133 - acc: 1.0000Epoch 00047: val_acc did not improve\n",
      "23/23 [==============================] - 13s 544ms/step - loss: 0.5120 - acc: 1.0000 - val_loss: 0.8450 - val_acc: 0.8780\n",
      "Epoch 48/1200\n",
      "20/23 [=========================>....] - ETA: 0s - loss: 0.5055 - acc: 1.0000Epoch 00048: val_acc did not improve\n",
      "23/23 [==============================] - 13s 545ms/step - loss: 0.5122 - acc: 1.0000 - val_loss: 0.8053 - val_acc: 0.9895\n",
      "Epoch 49/1200\n",
      "20/23 [=========================>....] - ETA: 0s - loss: 0.4845 - acc: 1.0000Epoch 00049: val_acc did not improve\n",
      "23/23 [==============================] - 13s 545ms/step - loss: 0.4823 - acc: 1.0000 - val_loss: 0.7822 - val_acc: 0.9977\n",
      "Epoch 50/1200\n",
      "20/23 [=========================>....] - ETA: 0s - loss: 0.4717 - acc: 1.0000Epoch 00050: val_acc did not improve\n",
      "23/23 [==============================] - 12s 543ms/step - loss: 0.4727 - acc: 1.0000 - val_loss: 0.7826 - val_acc: 0.9849\n",
      "Epoch 51/1200\n",
      "20/23 [=========================>....] - ETA: 0s - loss: 0.4687 - acc: 1.0000Epoch 00051: val_acc did not improve\n",
      "23/23 [==============================] - 13s 546ms/step - loss: 0.4760 - acc: 1.0000 - val_loss: 0.7883 - val_acc: 0.9454\n",
      "Epoch 52/1200\n",
      "20/23 [=========================>....] - ETA: 0s - loss: 0.4651 - acc: 1.0000Epoch 00052: val_acc did not improve\n",
      "23/23 [==============================] - 12s 541ms/step - loss: 0.4645 - acc: 1.0000 - val_loss: 0.7965 - val_acc: 0.8955\n",
      "Epoch 53/1200\n",
      "20/23 [=========================>....] - ETA: 0s - loss: 0.4615 - acc: 1.0000Epoch 00053: val_acc did not improve\n",
      "23/23 [==============================] - 13s 546ms/step - loss: 0.4892 - acc: 1.0000 - val_loss: 0.7988 - val_acc: 0.8664\n",
      "Epoch 54/1200\n",
      "20/23 [=========================>....] - ETA: 0s - loss: 0.4572 - acc: 1.0000Epoch 00054: val_acc did not improve\n",
      "23/23 [==============================] - 13s 547ms/step - loss: 0.4568 - acc: 1.0000 - val_loss: 0.7908 - val_acc: 0.8653\n",
      "Epoch 55/1200\n",
      "20/23 [=========================>....] - ETA: 0s - loss: 0.4524 - acc: 1.0000Epoch 00055: val_acc did not improve\n",
      "23/23 [==============================] - 13s 544ms/step - loss: 0.4523 - acc: 1.0000 - val_loss: 0.7814 - val_acc: 0.8688\n",
      "Epoch 56/1200\n",
      "20/23 [=========================>....] - ETA: 0s - loss: 0.4489 - acc: 1.0000Epoch 00056: val_acc did not improve\n",
      "23/23 [==============================] - 12s 543ms/step - loss: 0.4634 - acc: 1.0000 - val_loss: 0.7596 - val_acc: 0.8931\n",
      "Epoch 57/1200\n",
      "20/23 [=========================>....] - ETA: 0s - loss: 0.4447 - acc: 1.0000Epoch 00057: val_acc did not improve\n",
      "23/23 [==============================] - 13s 544ms/step - loss: 0.4496 - acc: 1.0000 - val_loss: 0.7300 - val_acc: 0.9210\n",
      "Epoch 58/1200\n",
      "20/23 [=========================>....] - ETA: 0s - loss: 0.4410 - acc: 1.0000Epoch 00058: val_acc did not improve\n",
      "23/23 [==============================] - 12s 542ms/step - loss: 0.4841 - acc: 1.0000 - val_loss: 0.6952 - val_acc: 0.9919\n",
      "Epoch 59/1200\n",
      "20/23 [=========================>....] - ETA: 0s - loss: 0.4365 - acc: 1.0000Epoch 00059: val_acc improved from 0.99768 to 1.00000, saving model to ./weights/ECGFiveDays_weights.h5\n",
      "23/23 [==============================] - 13s 547ms/step - loss: 0.4493 - acc: 1.0000 - val_loss: 0.7016 - val_acc: 1.0000\n",
      "Epoch 60/1200\n",
      "20/23 [=========================>....] - ETA: 0s - loss: 0.4381 - acc: 1.0000Epoch 00060: val_acc did not improve\n",
      "23/23 [==============================] - 12s 543ms/step - loss: 0.4389 - acc: 1.0000 - val_loss: 0.7274 - val_acc: 0.9779\n",
      "Epoch 61/1200\n",
      "20/23 [=========================>....] - ETA: 0s - loss: 0.4417 - acc: 1.0000Epoch 00061: val_acc did not improve\n",
      "23/23 [==============================] - 13s 545ms/step - loss: 0.4568 - acc: 1.0000 - val_loss: 0.7222 - val_acc: 0.9710\n",
      "Epoch 62/1200\n",
      "20/23 [=========================>....] - ETA: 0s - loss: 0.4458 - acc: 1.0000Epoch 00062: val_acc did not improve\n",
      "23/23 [==============================] - 12s 543ms/step - loss: 0.4724 - acc: 1.0000 - val_loss: 0.6855 - val_acc: 0.9965\n",
      "Epoch 63/1200\n",
      "20/23 [=========================>....] - ETA: 0s - loss: 0.4338 - acc: 1.0000Epoch 00063: val_acc did not improve\n"
     ]
    },
    {
     "name": "stdout",
     "output_type": "stream",
     "text": [
      "23/23 [==============================] - 13s 545ms/step - loss: 0.4333 - acc: 1.0000 - val_loss: 0.6663 - val_acc: 1.0000\n",
      "Epoch 64/1200\n",
      "20/23 [=========================>....] - ETA: 0s - loss: 0.4278 - acc: 1.0000Epoch 00064: val_acc did not improve\n",
      "23/23 [==============================] - 12s 542ms/step - loss: 0.4352 - acc: 1.0000 - val_loss: 0.6698 - val_acc: 0.9942\n",
      "Epoch 65/1200\n",
      "20/23 [=========================>....] - ETA: 0s - loss: 0.4237 - acc: 1.0000Epoch 00065: val_acc did not improve\n",
      "23/23 [==============================] - 12s 543ms/step - loss: 0.4233 - acc: 1.0000 - val_loss: 0.6944 - val_acc: 0.9675\n",
      "Epoch 66/1200\n",
      "20/23 [=========================>....] - ETA: 0s - loss: 0.4193 - acc: 1.0000Epoch 00066: val_acc did not improve\n",
      "23/23 [==============================] - 12s 543ms/step - loss: 0.4190 - acc: 1.0000 - val_loss: 0.7248 - val_acc: 0.9036\n",
      "Epoch 67/1200\n",
      "20/23 [=========================>....] - ETA: 0s - loss: 0.4160 - acc: 1.0000Epoch 00067: val_acc did not improve\n",
      "23/23 [==============================] - 13s 544ms/step - loss: 0.4233 - acc: 1.0000 - val_loss: 0.7416 - val_acc: 0.8734\n",
      "Epoch 68/1200\n",
      "20/23 [=========================>....] - ETA: 0s - loss: 0.4139 - acc: 1.0000Epoch 00068: val_acc did not improve\n",
      "23/23 [==============================] - 12s 541ms/step - loss: 0.4363 - acc: 1.0000 - val_loss: 0.7449 - val_acc: 0.8676\n",
      "Epoch 69/1200\n",
      "20/23 [=========================>....] - ETA: 0s - loss: 0.4085 - acc: 1.0000Epoch 00069: val_acc did not improve\n",
      "23/23 [==============================] - 13s 545ms/step - loss: 0.4085 - acc: 1.0000 - val_loss: 0.7361 - val_acc: 0.8792\n",
      "Epoch 70/1200\n",
      "20/23 [=========================>....] - ETA: 0s - loss: 0.4066 - acc: 1.0000Epoch 00070: val_acc did not improve\n",
      "23/23 [==============================] - 13s 544ms/step - loss: 0.4063 - acc: 1.0000 - val_loss: 0.7254 - val_acc: 0.8885\n",
      "Epoch 71/1200\n",
      "20/23 [=========================>....] - ETA: 0s - loss: 0.4041 - acc: 1.0000Epoch 00071: val_acc did not improve\n",
      "23/23 [==============================] - 13s 545ms/step - loss: 0.4102 - acc: 1.0000 - val_loss: 0.7105 - val_acc: 0.8931\n",
      "Epoch 72/1200\n",
      "20/23 [=========================>....] - ETA: 0s - loss: 0.4053 - acc: 1.0000Epoch 00072: val_acc did not improve\n",
      "23/23 [==============================] - 12s 543ms/step - loss: 0.4139 - acc: 1.0000 - val_loss: 0.7080 - val_acc: 0.8908\n",
      "Epoch 73/1200\n",
      "20/23 [=========================>....] - ETA: 0s - loss: 0.3976 - acc: 1.0000Epoch 00073: val_acc did not improve\n",
      "23/23 [==============================] - 13s 546ms/step - loss: 0.4027 - acc: 1.0000 - val_loss: 0.7051 - val_acc: 0.8908\n",
      "Epoch 74/1200\n",
      "20/23 [=========================>....] - ETA: 0s - loss: 0.3945 - acc: 1.0000Epoch 00074: val_acc did not improve\n",
      "23/23 [==============================] - 13s 546ms/step - loss: 0.3945 - acc: 1.0000 - val_loss: 0.7031 - val_acc: 0.8850\n",
      "Epoch 75/1200\n",
      "20/23 [=========================>....] - ETA: 0s - loss: 0.3919 - acc: 1.0000Epoch 00075: val_acc did not improve\n",
      "23/23 [==============================] - 13s 546ms/step - loss: 0.5925 - acc: 0.8696 - val_loss: 0.7421 - val_acc: 0.8525\n",
      "Epoch 76/1200\n",
      "20/23 [=========================>....] - ETA: 0s - loss: 0.3922 - acc: 1.0000Epoch 00076: val_acc did not improve\n",
      "23/23 [==============================] - 12s 542ms/step - loss: 0.5120 - acc: 0.9565 - val_loss: 0.7398 - val_acc: 0.8258\n",
      "Epoch 77/1200\n",
      "20/23 [=========================>....] - ETA: 0s - loss: 0.4123 - acc: 1.0000Epoch 00077: val_acc did not improve\n",
      "23/23 [==============================] - 13s 544ms/step - loss: 0.4159 - acc: 1.0000 - val_loss: 0.7306 - val_acc: 0.8293\n",
      "Epoch 78/1200\n",
      "20/23 [=========================>....] - ETA: 0s - loss: 0.4721 - acc: 1.0000Epoch 00078: val_acc did not improve\n",
      "23/23 [==============================] - 12s 542ms/step - loss: 0.4828 - acc: 1.0000 - val_loss: 0.7256 - val_acc: 0.8432\n",
      "Epoch 79/1200\n",
      "20/23 [=========================>....] - ETA: 0s - loss: 0.5389 - acc: 1.0000Epoch 00079: val_acc did not improve\n",
      "23/23 [==============================] - 13s 544ms/step - loss: 0.5280 - acc: 1.0000 - val_loss: 0.7264 - val_acc: 0.8386\n",
      "Epoch 80/1200\n",
      "20/23 [=========================>....] - ETA: 0s - loss: 0.5008 - acc: 1.0000Epoch 00080: val_acc did not improve\n",
      "23/23 [==============================] - 12s 542ms/step - loss: 0.4963 - acc: 1.0000 - val_loss: 0.7407 - val_acc: 0.8258\n",
      "Epoch 81/1200\n",
      "20/23 [=========================>....] - ETA: 0s - loss: 0.4823 - acc: 1.0000Epoch 00081: val_acc did not improve\n",
      "23/23 [==============================] - 13s 548ms/step - loss: 0.4793 - acc: 1.0000 - val_loss: 0.7382 - val_acc: 0.8316\n",
      "Epoch 82/1200\n",
      "20/23 [=========================>....] - ETA: 0s - loss: 0.5086 - acc: 1.0000Epoch 00082: val_acc did not improve\n",
      "23/23 [==============================] - 13s 544ms/step - loss: 0.5699 - acc: 0.9565 - val_loss: 0.7112 - val_acc: 0.8780\n",
      "Epoch 83/1200\n",
      "20/23 [=========================>....] - ETA: 0s - loss: 0.4644 - acc: 1.0000Epoch 00083: val_acc did not improve\n",
      "23/23 [==============================] - 13s 544ms/step - loss: 0.4609 - acc: 1.0000 - val_loss: 0.6885 - val_acc: 0.8931\n",
      "Epoch 84/1200\n",
      "20/23 [=========================>....] - ETA: 0s - loss: 0.4544 - acc: 1.0000Epoch 00084: val_acc did not improve\n",
      "23/23 [==============================] - 13s 547ms/step - loss: 0.4600 - acc: 1.0000 - val_loss: 0.6700 - val_acc: 0.9013\n",
      "Epoch 85/1200\n",
      "20/23 [=========================>....] - ETA: 0s - loss: 0.4414 - acc: 1.0000Epoch 00085: val_acc did not improve\n",
      "23/23 [==============================] - 12s 543ms/step - loss: 0.4452 - acc: 1.0000 - val_loss: 0.6646 - val_acc: 0.9024\n",
      "Epoch 86/1200\n",
      "20/23 [=========================>....] - ETA: 0s - loss: 0.4196 - acc: 1.0000Epoch 00086: val_acc did not improve\n",
      "23/23 [==============================] - 12s 543ms/step - loss: 0.4376 - acc: 1.0000 - val_loss: 0.6789 - val_acc: 0.8955\n",
      "Epoch 87/1200\n",
      "20/23 [=========================>....] - ETA: 0s - loss: 0.4050 - acc: 1.0000Epoch 00087: val_acc did not improve\n",
      "23/23 [==============================] - 12s 542ms/step - loss: 0.4827 - acc: 0.9565 - val_loss: 0.7068 - val_acc: 0.8606\n",
      "Epoch 88/1200\n",
      "20/23 [=========================>....] - ETA: 0s - loss: 0.4002 - acc: 1.0000Epoch 00088: val_acc did not improve\n",
      "23/23 [==============================] - 13s 545ms/step - loss: 0.4027 - acc: 1.0000 - val_loss: 0.7328 - val_acc: 0.8142\n",
      "Epoch 89/1200\n",
      "20/23 [=========================>....] - ETA: 0s - loss: 0.3996 - acc: 1.0000Epoch 00089: val_acc did not improve\n",
      "23/23 [==============================] - 12s 542ms/step - loss: 0.4018 - acc: 1.0000 - val_loss: 0.7557 - val_acc: 0.7758\n",
      "Epoch 90/1200\n",
      "20/23 [=========================>....] - ETA: 0s - loss: 0.4046 - acc: 1.0000Epoch 00090: val_acc did not improve\n",
      "23/23 [==============================] - 13s 544ms/step - loss: 0.4246 - acc: 1.0000 - val_loss: 0.7759 - val_acc: 0.7410\n",
      "Epoch 91/1200\n",
      "20/23 [=========================>....] - ETA: 0s - loss: 0.4059 - acc: 1.0000Epoch 00091: val_acc did not improve\n",
      "23/23 [==============================] - 12s 543ms/step - loss: 0.4119 - acc: 1.0000 - val_loss: 0.7956 - val_acc: 0.7143\n",
      "Epoch 92/1200\n",
      "20/23 [=========================>....] - ETA: 0s - loss: 0.3971 - acc: 1.0000Epoch 00092: val_acc did not improve\n",
      "23/23 [==============================] - 12s 543ms/step - loss: 0.3958 - acc: 1.0000 - val_loss: 0.8098 - val_acc: 0.7003\n",
      "Epoch 93/1200\n",
      "20/23 [=========================>....] - ETA: 0s - loss: 0.3891 - acc: 1.0000Epoch 00093: val_acc did not improve\n",
      "23/23 [==============================] - 13s 549ms/step - loss: 0.3992 - acc: 1.0000 - val_loss: 0.8204 - val_acc: 0.6945\n",
      "Epoch 94/1200\n",
      "20/23 [=========================>....] - ETA: 0s - loss: 0.3864 - acc: 1.0000Epoch 00094: val_acc did not improve\n",
      "23/23 [==============================] - 13s 544ms/step - loss: 0.4159 - acc: 1.0000 - val_loss: 0.7909 - val_acc: 0.7480\n",
      "Epoch 95/1200\n",
      "20/23 [=========================>....] - ETA: 0s - loss: 0.3804 - acc: 1.0000Epoch 00095: val_acc did not improve\n",
      "23/23 [==============================] - 13s 544ms/step - loss: 0.4037 - acc: 1.0000 - val_loss: 0.6970 - val_acc: 0.8479\n",
      "Epoch 96/1200\n"
     ]
    },
    {
     "name": "stdout",
     "output_type": "stream",
     "text": [
      "20/23 [=========================>....] - ETA: 0s - loss: 0.3775 - acc: 1.0000Epoch 00096: val_acc did not improve\n",
      "23/23 [==============================] - 13s 544ms/step - loss: 0.3768 - acc: 1.0000 - val_loss: 0.6217 - val_acc: 0.8990\n",
      "Epoch 97/1200\n",
      "20/23 [=========================>....] - ETA: 0s - loss: 0.3771 - acc: 1.0000Epoch 00097: val_acc did not improve\n",
      "23/23 [==============================] - 13s 546ms/step - loss: 0.3772 - acc: 1.0000 - val_loss: 0.5834 - val_acc: 0.9222\n",
      "Epoch 98/1200\n",
      "20/23 [=========================>....] - ETA: 0s - loss: 0.3779 - acc: 1.0000Epoch 00098: val_acc did not improve\n",
      "23/23 [==============================] - 12s 543ms/step - loss: 0.3775 - acc: 1.0000 - val_loss: 0.5669 - val_acc: 0.9257\n",
      "Epoch 99/1200\n",
      "20/23 [=========================>....] - ETA: 0s - loss: 0.3827 - acc: 1.0000Epoch 00099: val_acc did not improve\n",
      "23/23 [==============================] - 13s 544ms/step - loss: 0.3909 - acc: 1.0000 - val_loss: 0.5696 - val_acc: 0.9233\n",
      "Epoch 100/1200\n",
      "20/23 [=========================>....] - ETA: 0s - loss: 0.3719 - acc: 1.0000Epoch 00100: val_acc did not improve\n",
      "23/23 [==============================] - 13s 546ms/step - loss: 0.3727 - acc: 1.0000 - val_loss: 0.5827 - val_acc: 0.9175\n",
      "Epoch 101/1200\n",
      "20/23 [=========================>....] - ETA: 0s - loss: 0.3785 - acc: 1.0000Epoch 00101: val_acc did not improve\n",
      "23/23 [==============================] - 12s 543ms/step - loss: 0.3915 - acc: 1.0000 - val_loss: 0.6230 - val_acc: 0.8931\n",
      "Epoch 102/1200\n",
      "20/23 [=========================>....] - ETA: 0s - loss: 0.3683 - acc: 1.0000Epoch 00102: val_acc did not improve\n",
      "23/23 [==============================] - 13s 545ms/step - loss: 0.3680 - acc: 1.0000 - val_loss: 0.6766 - val_acc: 0.8513\n",
      "Epoch 103/1200\n",
      "20/23 [=========================>....] - ETA: 0s - loss: 0.3649 - acc: 1.0000Epoch 00103: val_acc did not improve\n",
      "23/23 [==============================] - 13s 545ms/step - loss: 0.3647 - acc: 1.0000 - val_loss: 0.7287 - val_acc: 0.8177\n",
      "Epoch 104/1200\n",
      "20/23 [=========================>....] - ETA: 0s - loss: 0.3594 - acc: 1.0000Epoch 00104: val_acc did not improve\n",
      "23/23 [==============================] - 12s 543ms/step - loss: 0.5903 - acc: 0.8696 - val_loss: 0.8696 - val_acc: 0.6516\n",
      "Epoch 105/1200\n",
      "20/23 [=========================>....] - ETA: 0s - loss: 0.3573 - acc: 1.0000Epoch 00105: val_acc did not improve\n",
      "23/23 [==============================] - 12s 542ms/step - loss: 0.3586 - acc: 1.0000 - val_loss: 1.1281 - val_acc: 0.5052\n",
      "Epoch 106/1200\n",
      "20/23 [=========================>....] - ETA: 0s - loss: 0.3615 - acc: 1.0000Epoch 00106: val_acc did not improve\n",
      "23/23 [==============================] - 13s 546ms/step - loss: 0.3630 - acc: 1.0000 - val_loss: 1.3900 - val_acc: 0.5029\n",
      "Epoch 107/1200\n",
      "20/23 [=========================>....] - ETA: 0s - loss: 0.3804 - acc: 1.0000Epoch 00107: val_acc did not improve\n",
      "23/23 [==============================] - 13s 544ms/step - loss: 0.3818 - acc: 1.0000 - val_loss: 1.5564 - val_acc: 0.5029\n",
      "Epoch 108/1200\n",
      "20/23 [=========================>....] - ETA: 0s - loss: 0.3802 - acc: 1.0000Epoch 00108: val_acc did not improve\n",
      "23/23 [==============================] - 13s 545ms/step - loss: 0.3834 - acc: 1.0000 - val_loss: 1.6190 - val_acc: 0.5029\n",
      "Epoch 109/1200\n",
      "20/23 [=========================>....] - ETA: 0s - loss: 0.3840 - acc: 1.0000Epoch 00109: val_acc did not improve\n",
      "23/23 [==============================] - 13s 545ms/step - loss: 0.3871 - acc: 1.0000 - val_loss: 1.6239 - val_acc: 0.5029\n",
      "Epoch 110/1200\n",
      "20/23 [=========================>....] - ETA: 0s - loss: 0.3799 - acc: 1.0000Epoch 00110: val_acc did not improve\n",
      "23/23 [==============================] - 13s 545ms/step - loss: 0.3811 - acc: 1.0000 - val_loss: 1.6022 - val_acc: 0.5029\n",
      "Epoch 111/1200\n",
      "20/23 [=========================>....] - ETA: 0s - loss: 0.3698 - acc: 1.0000Epoch 00111: val_acc did not improve\n",
      "23/23 [==============================] - 13s 548ms/step - loss: 0.3719 - acc: 1.0000 - val_loss: 1.5496 - val_acc: 0.5029\n",
      "Epoch 112/1200\n",
      "20/23 [=========================>....] - ETA: 0s - loss: 0.3624 - acc: 1.0000Epoch 00112: val_acc did not improve\n",
      "23/23 [==============================] - 12s 542ms/step - loss: 0.3644 - acc: 1.0000 - val_loss: 1.4562 - val_acc: 0.5029\n",
      "Epoch 113/1200\n",
      "20/23 [=========================>....] - ETA: 0s - loss: 0.3561 - acc: 1.0000Epoch 00113: val_acc did not improve\n",
      "23/23 [==============================] - 12s 537ms/step - loss: 0.4097 - acc: 1.0000 - val_loss: 1.5506 - val_acc: 0.5052\n",
      "Epoch 114/1200\n",
      "20/23 [=========================>....] - ETA: 0s - loss: 0.3545 - acc: 1.0000Epoch 00114: val_acc did not improve\n",
      "23/23 [==============================] - 13s 544ms/step - loss: 0.3854 - acc: 1.0000 - val_loss: 1.8431 - val_acc: 0.5029\n",
      "Epoch 115/1200\n",
      "20/23 [=========================>....] - ETA: 0s - loss: 0.3645 - acc: 1.0000Epoch 00115: val_acc did not improve\n"
     ]
    },
    {
     "ename": "KeyboardInterrupt",
     "evalue": "",
     "output_type": "error",
     "traceback": [
      "\u001b[0;31m---------------------------------------------------------------------------\u001b[0m",
      "\u001b[0;31mKeyboardInterrupt\u001b[0m                         Traceback (most recent call last)",
      "\u001b[0;32m<ipython-input-22-55f320390dff>\u001b[0m in \u001b[0;36m<module>\u001b[0;34m()\u001b[0m\n\u001b[1;32m      1\u001b[0m hist = model.fit(X_train, Y_train, batch_size=batch_size, epochs=epochs, callbacks=callback_list, \n\u001b[0;32m----> 2\u001b[0;31m                  verbose=1, validation_data=(X_test, Y_test))\n\u001b[0m",
      "\u001b[0;32m~/.local/lib/python3.6/site-packages/keras/engine/training.py\u001b[0m in \u001b[0;36mfit\u001b[0;34m(self, x, y, batch_size, epochs, verbose, callbacks, validation_split, validation_data, shuffle, class_weight, sample_weight, initial_epoch, steps_per_epoch, validation_steps, **kwargs)\u001b[0m\n\u001b[1;32m   1655\u001b[0m                               \u001b[0minitial_epoch\u001b[0m\u001b[0;34m=\u001b[0m\u001b[0minitial_epoch\u001b[0m\u001b[0;34m,\u001b[0m\u001b[0;34m\u001b[0m\u001b[0m\n\u001b[1;32m   1656\u001b[0m                               \u001b[0msteps_per_epoch\u001b[0m\u001b[0;34m=\u001b[0m\u001b[0msteps_per_epoch\u001b[0m\u001b[0;34m,\u001b[0m\u001b[0;34m\u001b[0m\u001b[0m\n\u001b[0;32m-> 1657\u001b[0;31m                               validation_steps=validation_steps)\n\u001b[0m\u001b[1;32m   1658\u001b[0m \u001b[0;34m\u001b[0m\u001b[0m\n\u001b[1;32m   1659\u001b[0m     def evaluate(self, x=None, y=None,\n",
      "\u001b[0;32m~/.local/lib/python3.6/site-packages/keras/engine/training.py\u001b[0m in \u001b[0;36m_fit_loop\u001b[0;34m(self, f, ins, out_labels, batch_size, epochs, verbose, callbacks, val_f, val_ins, shuffle, callback_metrics, initial_epoch, steps_per_epoch, validation_steps)\u001b[0m\n\u001b[1;32m   1231\u001b[0m                             \u001b[0;32mfor\u001b[0m \u001b[0ml\u001b[0m\u001b[0;34m,\u001b[0m \u001b[0mo\u001b[0m \u001b[0;32min\u001b[0m \u001b[0mzip\u001b[0m\u001b[0;34m(\u001b[0m\u001b[0mout_labels\u001b[0m\u001b[0;34m,\u001b[0m \u001b[0mval_outs\u001b[0m\u001b[0;34m)\u001b[0m\u001b[0;34m:\u001b[0m\u001b[0;34m\u001b[0m\u001b[0m\n\u001b[1;32m   1232\u001b[0m                                 \u001b[0mepoch_logs\u001b[0m\u001b[0;34m[\u001b[0m\u001b[0;34m'val_'\u001b[0m \u001b[0;34m+\u001b[0m \u001b[0ml\u001b[0m\u001b[0;34m]\u001b[0m \u001b[0;34m=\u001b[0m \u001b[0mo\u001b[0m\u001b[0;34m\u001b[0m\u001b[0m\n\u001b[0;32m-> 1233\u001b[0;31m             \u001b[0mcallbacks\u001b[0m\u001b[0;34m.\u001b[0m\u001b[0mon_epoch_end\u001b[0m\u001b[0;34m(\u001b[0m\u001b[0mepoch\u001b[0m\u001b[0;34m,\u001b[0m \u001b[0mepoch_logs\u001b[0m\u001b[0;34m)\u001b[0m\u001b[0;34m\u001b[0m\u001b[0m\n\u001b[0m\u001b[1;32m   1234\u001b[0m             \u001b[0;32mif\u001b[0m \u001b[0mcallback_model\u001b[0m\u001b[0;34m.\u001b[0m\u001b[0mstop_training\u001b[0m\u001b[0;34m:\u001b[0m\u001b[0;34m\u001b[0m\u001b[0m\n\u001b[1;32m   1235\u001b[0m                 \u001b[0;32mbreak\u001b[0m\u001b[0;34m\u001b[0m\u001b[0m\n",
      "\u001b[0;32m~/.local/lib/python3.6/site-packages/keras/callbacks.py\u001b[0m in \u001b[0;36mon_epoch_end\u001b[0;34m(self, epoch, logs)\u001b[0m\n\u001b[1;32m     71\u001b[0m         \u001b[0mlogs\u001b[0m \u001b[0;34m=\u001b[0m \u001b[0mlogs\u001b[0m \u001b[0;32mor\u001b[0m \u001b[0;34m{\u001b[0m\u001b[0;34m}\u001b[0m\u001b[0;34m\u001b[0m\u001b[0m\n\u001b[1;32m     72\u001b[0m         \u001b[0;32mfor\u001b[0m \u001b[0mcallback\u001b[0m \u001b[0;32min\u001b[0m \u001b[0mself\u001b[0m\u001b[0;34m.\u001b[0m\u001b[0mcallbacks\u001b[0m\u001b[0;34m:\u001b[0m\u001b[0;34m\u001b[0m\u001b[0m\n\u001b[0;32m---> 73\u001b[0;31m             \u001b[0mcallback\u001b[0m\u001b[0;34m.\u001b[0m\u001b[0mon_epoch_end\u001b[0m\u001b[0;34m(\u001b[0m\u001b[0mepoch\u001b[0m\u001b[0;34m,\u001b[0m \u001b[0mlogs\u001b[0m\u001b[0;34m)\u001b[0m\u001b[0;34m\u001b[0m\u001b[0m\n\u001b[0m\u001b[1;32m     74\u001b[0m \u001b[0;34m\u001b[0m\u001b[0m\n\u001b[1;32m     75\u001b[0m     \u001b[0;32mdef\u001b[0m \u001b[0mon_batch_begin\u001b[0m\u001b[0;34m(\u001b[0m\u001b[0mself\u001b[0m\u001b[0;34m,\u001b[0m \u001b[0mbatch\u001b[0m\u001b[0;34m,\u001b[0m \u001b[0mlogs\u001b[0m\u001b[0;34m=\u001b[0m\u001b[0;32mNone\u001b[0m\u001b[0;34m)\u001b[0m\u001b[0;34m:\u001b[0m\u001b[0;34m\u001b[0m\u001b[0m\n",
      "\u001b[0;32m<ipython-input-18-bbcf62fd5c79>\u001b[0m in \u001b[0;36mon_epoch_end\u001b[0;34m(self, epoch, logs)\u001b[0m\n\u001b[1;32m      1\u001b[0m \u001b[0;32mclass\u001b[0m \u001b[0mMPCECallback\u001b[0m\u001b[0;34m(\u001b[0m\u001b[0mCallback\u001b[0m\u001b[0;34m)\u001b[0m\u001b[0;34m:\u001b[0m\u001b[0;34m\u001b[0m\u001b[0m\n\u001b[1;32m      2\u001b[0m     \u001b[0;32mdef\u001b[0m \u001b[0mon_epoch_end\u001b[0m\u001b[0;34m(\u001b[0m\u001b[0mself\u001b[0m\u001b[0;34m,\u001b[0m\u001b[0mepoch\u001b[0m\u001b[0;34m,\u001b[0m\u001b[0mlogs\u001b[0m\u001b[0;34m=\u001b[0m\u001b[0;32mNone\u001b[0m\u001b[0;34m)\u001b[0m\u001b[0;34m:\u001b[0m\u001b[0;34m\u001b[0m\u001b[0m\n\u001b[0;32m----> 3\u001b[0;31m         \u001b[0my_pred\u001b[0m\u001b[0;34m=\u001b[0m\u001b[0mnp\u001b[0m\u001b[0;34m.\u001b[0m\u001b[0margmax\u001b[0m\u001b[0;34m(\u001b[0m\u001b[0mself\u001b[0m\u001b[0;34m.\u001b[0m\u001b[0mmodel\u001b[0m\u001b[0;34m.\u001b[0m\u001b[0mpredict\u001b[0m\u001b[0;34m(\u001b[0m\u001b[0mX_test\u001b[0m\u001b[0;34m)\u001b[0m\u001b[0;34m,\u001b[0m\u001b[0maxis\u001b[0m\u001b[0;34m=\u001b[0m\u001b[0;36m1\u001b[0m\u001b[0;34m)\u001b[0m\u001b[0;34m\u001b[0m\u001b[0m\n\u001b[0m\u001b[1;32m      4\u001b[0m         \u001b[0my_t\u001b[0m\u001b[0;34m=\u001b[0m\u001b[0mnp\u001b[0m\u001b[0;34m.\u001b[0m\u001b[0margmax\u001b[0m\u001b[0;34m(\u001b[0m\u001b[0mY_test\u001b[0m\u001b[0;34m,\u001b[0m\u001b[0maxis\u001b[0m\u001b[0;34m=\u001b[0m\u001b[0;36m1\u001b[0m\u001b[0;34m)\u001b[0m\u001b[0;34m\u001b[0m\u001b[0m\n\u001b[1;32m      5\u001b[0m         \u001b[0ml\u001b[0m\u001b[0;34m=\u001b[0m\u001b[0mMPCE\u001b[0m\u001b[0;34m(\u001b[0m\u001b[0my_t\u001b[0m\u001b[0;34m,\u001b[0m\u001b[0my_pred\u001b[0m\u001b[0;34m)\u001b[0m\u001b[0;34m\u001b[0m\u001b[0m\n",
      "\u001b[0;32m~/.local/lib/python3.6/site-packages/keras/engine/training.py\u001b[0m in \u001b[0;36mpredict\u001b[0;34m(self, x, batch_size, verbose, steps)\u001b[0m\n\u001b[1;32m   1788\u001b[0m         \u001b[0mf\u001b[0m \u001b[0;34m=\u001b[0m \u001b[0mself\u001b[0m\u001b[0;34m.\u001b[0m\u001b[0mpredict_function\u001b[0m\u001b[0;34m\u001b[0m\u001b[0m\n\u001b[1;32m   1789\u001b[0m         return self._predict_loop(f, ins, batch_size=batch_size,\n\u001b[0;32m-> 1790\u001b[0;31m                                   verbose=verbose, steps=steps)\n\u001b[0m\u001b[1;32m   1791\u001b[0m \u001b[0;34m\u001b[0m\u001b[0m\n\u001b[1;32m   1792\u001b[0m     def train_on_batch(self, x, y,\n",
      "\u001b[0;32m~/.local/lib/python3.6/site-packages/keras/engine/training.py\u001b[0m in \u001b[0;36m_predict_loop\u001b[0;34m(self, f, ins, batch_size, verbose, steps)\u001b[0m\n\u001b[1;32m   1297\u001b[0m                 \u001b[0;32melse\u001b[0m\u001b[0;34m:\u001b[0m\u001b[0;34m\u001b[0m\u001b[0m\n\u001b[1;32m   1298\u001b[0m                     \u001b[0mins_batch\u001b[0m \u001b[0;34m=\u001b[0m \u001b[0m_slice_arrays\u001b[0m\u001b[0;34m(\u001b[0m\u001b[0mins\u001b[0m\u001b[0;34m,\u001b[0m \u001b[0mbatch_ids\u001b[0m\u001b[0;34m)\u001b[0m\u001b[0;34m\u001b[0m\u001b[0m\n\u001b[0;32m-> 1299\u001b[0;31m                 \u001b[0mbatch_outs\u001b[0m \u001b[0;34m=\u001b[0m \u001b[0mf\u001b[0m\u001b[0;34m(\u001b[0m\u001b[0mins_batch\u001b[0m\u001b[0;34m)\u001b[0m\u001b[0;34m\u001b[0m\u001b[0m\n\u001b[0m\u001b[1;32m   1300\u001b[0m                 \u001b[0;32mif\u001b[0m \u001b[0;32mnot\u001b[0m \u001b[0misinstance\u001b[0m\u001b[0;34m(\u001b[0m\u001b[0mbatch_outs\u001b[0m\u001b[0;34m,\u001b[0m \u001b[0mlist\u001b[0m\u001b[0;34m)\u001b[0m\u001b[0;34m:\u001b[0m\u001b[0;34m\u001b[0m\u001b[0m\n\u001b[1;32m   1301\u001b[0m                     \u001b[0mbatch_outs\u001b[0m \u001b[0;34m=\u001b[0m \u001b[0;34m[\u001b[0m\u001b[0mbatch_outs\u001b[0m\u001b[0;34m]\u001b[0m\u001b[0;34m\u001b[0m\u001b[0m\n",
      "\u001b[0;32m~/.local/lib/python3.6/site-packages/keras/backend/tensorflow_backend.py\u001b[0m in \u001b[0;36m__call__\u001b[0;34m(self, inputs)\u001b[0m\n\u001b[1;32m   2355\u001b[0m         \u001b[0msession\u001b[0m \u001b[0;34m=\u001b[0m \u001b[0mget_session\u001b[0m\u001b[0;34m(\u001b[0m\u001b[0;34m)\u001b[0m\u001b[0;34m\u001b[0m\u001b[0m\n\u001b[1;32m   2356\u001b[0m         updated = session.run(fetches=fetches, feed_dict=feed_dict,\n\u001b[0;32m-> 2357\u001b[0;31m                               **self.session_kwargs)\n\u001b[0m\u001b[1;32m   2358\u001b[0m         \u001b[0;32mreturn\u001b[0m \u001b[0mupdated\u001b[0m\u001b[0;34m[\u001b[0m\u001b[0;34m:\u001b[0m\u001b[0mlen\u001b[0m\u001b[0;34m(\u001b[0m\u001b[0mself\u001b[0m\u001b[0;34m.\u001b[0m\u001b[0moutputs\u001b[0m\u001b[0;34m)\u001b[0m\u001b[0;34m]\u001b[0m\u001b[0;34m\u001b[0m\u001b[0m\n\u001b[1;32m   2359\u001b[0m \u001b[0;34m\u001b[0m\u001b[0m\n",
      "\u001b[0;32m~/.local/lib/python3.6/site-packages/tensorflow/python/client/session.py\u001b[0m in \u001b[0;36mrun\u001b[0;34m(self, fetches, feed_dict, options, run_metadata)\u001b[0m\n\u001b[1;32m    887\u001b[0m     \u001b[0;32mtry\u001b[0m\u001b[0;34m:\u001b[0m\u001b[0;34m\u001b[0m\u001b[0m\n\u001b[1;32m    888\u001b[0m       result = self._run(None, fetches, feed_dict, options_ptr,\n\u001b[0;32m--> 889\u001b[0;31m                          run_metadata_ptr)\n\u001b[0m\u001b[1;32m    890\u001b[0m       \u001b[0;32mif\u001b[0m \u001b[0mrun_metadata\u001b[0m\u001b[0;34m:\u001b[0m\u001b[0;34m\u001b[0m\u001b[0m\n\u001b[1;32m    891\u001b[0m         \u001b[0mproto_data\u001b[0m \u001b[0;34m=\u001b[0m \u001b[0mtf_session\u001b[0m\u001b[0;34m.\u001b[0m\u001b[0mTF_GetBuffer\u001b[0m\u001b[0;34m(\u001b[0m\u001b[0mrun_metadata_ptr\u001b[0m\u001b[0;34m)\u001b[0m\u001b[0;34m\u001b[0m\u001b[0m\n",
      "\u001b[0;32m~/.local/lib/python3.6/site-packages/tensorflow/python/client/session.py\u001b[0m in \u001b[0;36m_run\u001b[0;34m(self, handle, fetches, feed_dict, options, run_metadata)\u001b[0m\n\u001b[1;32m   1118\u001b[0m     \u001b[0;32mif\u001b[0m \u001b[0mfinal_fetches\u001b[0m \u001b[0;32mor\u001b[0m \u001b[0mfinal_targets\u001b[0m \u001b[0;32mor\u001b[0m \u001b[0;34m(\u001b[0m\u001b[0mhandle\u001b[0m \u001b[0;32mand\u001b[0m \u001b[0mfeed_dict_tensor\u001b[0m\u001b[0;34m)\u001b[0m\u001b[0;34m:\u001b[0m\u001b[0;34m\u001b[0m\u001b[0m\n\u001b[1;32m   1119\u001b[0m       results = self._do_run(handle, final_targets, final_fetches,\n\u001b[0;32m-> 1120\u001b[0;31m                              feed_dict_tensor, options, run_metadata)\n\u001b[0m\u001b[1;32m   1121\u001b[0m     \u001b[0;32melse\u001b[0m\u001b[0;34m:\u001b[0m\u001b[0;34m\u001b[0m\u001b[0m\n\u001b[1;32m   1122\u001b[0m       \u001b[0mresults\u001b[0m \u001b[0;34m=\u001b[0m \u001b[0;34m[\u001b[0m\u001b[0;34m]\u001b[0m\u001b[0;34m\u001b[0m\u001b[0m\n",
      "\u001b[0;32m~/.local/lib/python3.6/site-packages/tensorflow/python/client/session.py\u001b[0m in \u001b[0;36m_do_run\u001b[0;34m(self, handle, target_list, fetch_list, feed_dict, options, run_metadata)\u001b[0m\n\u001b[1;32m   1315\u001b[0m     \u001b[0;32mif\u001b[0m \u001b[0mhandle\u001b[0m \u001b[0;32mis\u001b[0m \u001b[0;32mNone\u001b[0m\u001b[0;34m:\u001b[0m\u001b[0;34m\u001b[0m\u001b[0m\n\u001b[1;32m   1316\u001b[0m       return self._do_call(_run_fn, self._session, feeds, fetches, targets,\n\u001b[0;32m-> 1317\u001b[0;31m                            options, run_metadata)\n\u001b[0m\u001b[1;32m   1318\u001b[0m     \u001b[0;32melse\u001b[0m\u001b[0;34m:\u001b[0m\u001b[0;34m\u001b[0m\u001b[0m\n\u001b[1;32m   1319\u001b[0m       \u001b[0;32mreturn\u001b[0m \u001b[0mself\u001b[0m\u001b[0;34m.\u001b[0m\u001b[0m_do_call\u001b[0m\u001b[0;34m(\u001b[0m\u001b[0m_prun_fn\u001b[0m\u001b[0;34m,\u001b[0m \u001b[0mself\u001b[0m\u001b[0;34m.\u001b[0m\u001b[0m_session\u001b[0m\u001b[0;34m,\u001b[0m \u001b[0mhandle\u001b[0m\u001b[0;34m,\u001b[0m \u001b[0mfeeds\u001b[0m\u001b[0;34m,\u001b[0m \u001b[0mfetches\u001b[0m\u001b[0;34m)\u001b[0m\u001b[0;34m\u001b[0m\u001b[0m\n",
      "\u001b[0;32m~/.local/lib/python3.6/site-packages/tensorflow/python/client/session.py\u001b[0m in \u001b[0;36m_do_call\u001b[0;34m(self, fn, *args)\u001b[0m\n\u001b[1;32m   1321\u001b[0m   \u001b[0;32mdef\u001b[0m \u001b[0m_do_call\u001b[0m\u001b[0;34m(\u001b[0m\u001b[0mself\u001b[0m\u001b[0;34m,\u001b[0m \u001b[0mfn\u001b[0m\u001b[0;34m,\u001b[0m \u001b[0;34m*\u001b[0m\u001b[0margs\u001b[0m\u001b[0;34m)\u001b[0m\u001b[0;34m:\u001b[0m\u001b[0;34m\u001b[0m\u001b[0m\n\u001b[1;32m   1322\u001b[0m     \u001b[0;32mtry\u001b[0m\u001b[0;34m:\u001b[0m\u001b[0;34m\u001b[0m\u001b[0m\n\u001b[0;32m-> 1323\u001b[0;31m       \u001b[0;32mreturn\u001b[0m \u001b[0mfn\u001b[0m\u001b[0;34m(\u001b[0m\u001b[0;34m*\u001b[0m\u001b[0margs\u001b[0m\u001b[0;34m)\u001b[0m\u001b[0;34m\u001b[0m\u001b[0m\n\u001b[0m\u001b[1;32m   1324\u001b[0m     \u001b[0;32mexcept\u001b[0m \u001b[0merrors\u001b[0m\u001b[0;34m.\u001b[0m\u001b[0mOpError\u001b[0m \u001b[0;32mas\u001b[0m \u001b[0me\u001b[0m\u001b[0;34m:\u001b[0m\u001b[0;34m\u001b[0m\u001b[0m\n\u001b[1;32m   1325\u001b[0m       \u001b[0mmessage\u001b[0m \u001b[0;34m=\u001b[0m \u001b[0mcompat\u001b[0m\u001b[0;34m.\u001b[0m\u001b[0mas_text\u001b[0m\u001b[0;34m(\u001b[0m\u001b[0me\u001b[0m\u001b[0;34m.\u001b[0m\u001b[0mmessage\u001b[0m\u001b[0;34m)\u001b[0m\u001b[0;34m\u001b[0m\u001b[0m\n",
      "\u001b[0;32m~/.local/lib/python3.6/site-packages/tensorflow/python/client/session.py\u001b[0m in \u001b[0;36m_run_fn\u001b[0;34m(session, feed_dict, fetch_list, target_list, options, run_metadata)\u001b[0m\n\u001b[1;32m   1300\u001b[0m           return tf_session.TF_Run(session, options,\n\u001b[1;32m   1301\u001b[0m                                    \u001b[0mfeed_dict\u001b[0m\u001b[0;34m,\u001b[0m \u001b[0mfetch_list\u001b[0m\u001b[0;34m,\u001b[0m \u001b[0mtarget_list\u001b[0m\u001b[0;34m,\u001b[0m\u001b[0;34m\u001b[0m\u001b[0m\n\u001b[0;32m-> 1302\u001b[0;31m                                    status, run_metadata)\n\u001b[0m\u001b[1;32m   1303\u001b[0m \u001b[0;34m\u001b[0m\u001b[0m\n\u001b[1;32m   1304\u001b[0m     \u001b[0;32mdef\u001b[0m \u001b[0m_prun_fn\u001b[0m\u001b[0;34m(\u001b[0m\u001b[0msession\u001b[0m\u001b[0;34m,\u001b[0m \u001b[0mhandle\u001b[0m\u001b[0;34m,\u001b[0m \u001b[0mfeed_dict\u001b[0m\u001b[0;34m,\u001b[0m \u001b[0mfetch_list\u001b[0m\u001b[0;34m)\u001b[0m\u001b[0;34m:\u001b[0m\u001b[0;34m\u001b[0m\u001b[0m\n",
      "\u001b[0;31mKeyboardInterrupt\u001b[0m: "
     ]
    }
   ],
   "source": [
    "hist = model.fit(X_train, Y_train, batch_size=batch_size, epochs=epochs, callbacks=callback_list, \n",
    "                 verbose=1, validation_data=(X_test, Y_test))"
   ]
  },
  {
   "cell_type": "code",
   "execution_count": null,
   "metadata": {},
   "outputs": [],
   "source": [
    "plt.plot(hist.history['acc'])\n",
    "plt.plot(hist.history['MPCE'])\n",
    "plt.plot(hist.history['val_acc'])\n",
    "plt.legend(['acc: %.4f'%max(hist.history['acc']),'MPCE: %.4f'%min(hist.history['MPCE']),'val_acc: %.4f'%max(hist.history['val_acc'])])\n",
    "plt.title('Training process: %s' % dataset_name)\n",
    "plt.savefig('./figures/Training process_%s.png' % dataset_name, dpi=300)"
   ]
  },
  {
   "cell_type": "code",
   "execution_count": null,
   "metadata": {},
   "outputs": [],
   "source": [
    "plt.plot(hist.history['loss'])\n",
    "plt.plot(hist.history['val_loss'])\n",
    "plt.legend(['loss: %.4f'%min(hist.history['loss']),'val_loss: %.4f'%min(hist.history['val_loss'])])\n",
    "plt.title('Loss curve: %s' % dataset_name)\n",
    "plt.savefig('./figures/Loss curve_%s.png' % dataset_name, dpi=300)"
   ]
  },
  {
   "cell_type": "markdown",
   "metadata": {},
   "source": [
    "## CAM"
   ]
  },
  {
   "cell_type": "code",
   "execution_count": 23,
   "metadata": {},
   "outputs": [],
   "source": [
    "from keras import backend as K"
   ]
  },
  {
   "cell_type": "code",
   "execution_count": 24,
   "metadata": {},
   "outputs": [],
   "source": [
    "def calculate_CAM(cam_func, cam_sample, series_length):\n",
    "    cam_output = cam_func([cam_sample, 1.])\n",
    "    cam_matrix  = np.zeros((series_length, nb_classes), dtype=np.float32)\n",
    "    for i in range(0, cam_output[0].shape[1]):\n",
    "        for j in range(class_weights.shape[1]):\n",
    "            cam_matrix[i+1, j] = np.dot(cam_output[0][0, i, 0, :], class_weights[:, j])\n",
    "    cam_matrix = cam_matrix - cam_matrix.min(axis=0)\n",
    "    cam_matrix = cam_matrix / (cam_matrix.max(axis=0) - cam_matrix.min(axis=0))\n",
    "    return cam_matrix"
   ]
  },
  {
   "cell_type": "code",
   "execution_count": 25,
   "metadata": {},
   "outputs": [],
   "source": [
    "model.load_weights('./weights/%s_weights.h5' % dataset_name)"
   ]
  },
  {
   "cell_type": "code",
   "execution_count": 26,
   "metadata": {},
   "outputs": [
    {
     "data": {
      "text/plain": [
       "[<keras.engine.topology.InputLayer at 0x7fcd6f4589b0>,\n",
       " <keras.layers.convolutional.Conv1D at 0x7fcd6f458b38>,\n",
       " <keras.layers.normalization.BatchNormalization at 0x7fcd6f458cc0>,\n",
       " <keras.layers.core.Activation at 0x7fcd6f458ac8>,\n",
       " <__main__.MFD_FFT at 0x7fcd6f42e5f8>,\n",
       " <keras.layers.normalization.BatchNormalization at 0x7fcd6f42e278>,\n",
       " <keras.layers.convolutional.Conv2D at 0x7fcd6e670e48>,\n",
       " <keras.layers.normalization.BatchNormalization at 0x7fcd6e63a940>,\n",
       " <keras.layers.core.Activation at 0x7fcd6e3c5860>,\n",
       " <keras.layers.convolutional.Conv2D at 0x7fcd6e306b70>,\n",
       " <keras.layers.normalization.BatchNormalization at 0x7fcd6e36aeb8>,\n",
       " <keras.layers.core.Activation at 0x7fcd6e3066d8>,\n",
       " <keras.layers.pooling.GlobalAveragePooling2D at 0x7fcd6e2afbe0>,\n",
       " <keras.layers.core.Dense at 0x7fcd6e248ac8>]"
      ]
     },
     "execution_count": 26,
     "metadata": {},
     "output_type": "execute_result"
    }
   ],
   "source": [
    "model.layers"
   ]
  },
  {
   "cell_type": "code",
   "execution_count": 27,
   "metadata": {},
   "outputs": [],
   "source": [
    "class_weights = model.layers[-1].get_weights()[0]\n",
    "last_conv_acti = model.layers[-3]\n",
    "cam_input = model.input"
   ]
  },
  {
   "cell_type": "code",
   "execution_count": 28,
   "metadata": {},
   "outputs": [],
   "source": [
    "cam_func = K.function([cam_input, K.learning_phase()], [last_conv_acti.output])"
   ]
  },
  {
   "cell_type": "code",
   "execution_count": 42,
   "metadata": {},
   "outputs": [],
   "source": [
    "CAM_INDEX = 1\n",
    "cam_sample = X_train[CAM_INDEX][np.newaxis, ...]\n",
    "cam_sample_Y = np.where(Y_train[CAM_INDEX]==1)[0][0]\n",
    "cam_sample_Y\n",
    "cam_matrix = calculate_CAM(cam_func, cam_sample, series_length)"
   ]
  },
  {
   "cell_type": "code",
   "execution_count": 43,
   "metadata": {},
   "outputs": [],
   "source": [
    "CAM_INDEX_1 = 3\n",
    "cam_sample_1 = X_train[CAM_INDEX_1][np.newaxis, ...]\n",
    "cam_sample_Y_1 = np.where(Y_train[CAM_INDEX_1]==1)[0][0]\n",
    "cam_sample_Y_1\n",
    "cam_matrix_1 = calculate_CAM(cam_func, cam_sample_1, series_length)"
   ]
  },
  {
   "cell_type": "code",
   "execution_count": 44,
   "metadata": {},
   "outputs": [],
   "source": [
    "import pandas as pd"
   ]
  },
  {
   "cell_type": "code",
   "execution_count": 45,
   "metadata": {},
   "outputs": [],
   "source": [
    "sequence_df = pd.DataFrame(cam_sample[0,:,0],\n",
    "                           index=range(cam_sample.shape[1]),\n",
    "                           columns=range(1))\n",
    "cam_df = pd.DataFrame(cam_matrix, \n",
    "                      index=range(cam_matrix.shape[0]),\n",
    "                      columns=range(cam_matrix.shape[1]))"
   ]
  },
  {
   "cell_type": "code",
   "execution_count": 46,
   "metadata": {},
   "outputs": [],
   "source": [
    "sequence_df_1 = pd.DataFrame(cam_sample_1[0,:,0],\n",
    "                           index=range(cam_sample_1.shape[1]),\n",
    "                           columns=range(1))\n",
    "cam_df_1 = pd.DataFrame(cam_matrix_1, \n",
    "                      index=range(cam_matrix_1.shape[0]),\n",
    "                      columns=range(cam_matrix_1.shape[1]))"
   ]
  },
  {
   "cell_type": "code",
   "execution_count": 51,
   "metadata": {},
   "outputs": [
    {
     "data": {
      "text/plain": [
       "Text(0.5,0.98,'CAM: Data set: ECGFiveDays')"
      ]
     },
     "execution_count": 51,
     "metadata": {},
     "output_type": "execute_result"
    },
    {
     "data": {
      "image/png": "[encoded data removed]",
      "text/plain": [
       "<matplotlib.figure.Figure at 0x7fcd4da4f8d0>"
      ]
     },
     "metadata": {},
     "output_type": "display_data"
    }
   ],
   "source": [
    "fig, axs = plt.subplots(2, 2, squeeze=False, figsize=(12, 6))\n",
    "sequence_df.plot(subplots=False, legend=None, ax=axs[0][0], fontsize=8, title='Series: %d' % CAM_INDEX)\n",
    "cam_df.plot(subplots=False, ax=axs[1][0], fontsize=8, title='Class: %d' % cam_sample_Y)\n",
    "sequence_df_1.plot(subplots=False, legend=None, ax=axs[0][1], fontsize=8, title='Series: %d' % CAM_INDEX_1)\n",
    "cam_df_1.plot(subplots=False, ax=axs[1][1], fontsize=8, title='Class: %d' % cam_sample_Y_1)\n",
    "fig.suptitle('CAM: Data set: %s' % dataset_name)"
   ]
  },
  {
   "cell_type": "code",
   "execution_count": 54,
   "metadata": {},
   "outputs": [],
   "source": [
    "fig.savefig('./figures/CAM_%s.png' % dataset_name, dpi=300)"
   ]
  },
  {
   "cell_type": "code",
   "execution_count": null,
   "metadata": {},
   "outputs": [],
   "source": []
  }
 ],
 "metadata": {
  "kernelspec": {
   "display_name": "Python 3",
   "language": "python",
   "name": "python3"
  },
  "language_info": {
   "codemirror_mode": {
    "name": "ipython",
    "version": 3
   },
   "file_extension": ".py",
   "mimetype": "text/x-python",
   "name": "python",
   "nbconvert_exporter": "python",
   "pygments_lexer": "ipython3",
   "version": "3.6.3"
  }
 },
 "nbformat": 4,
 "nbformat_minor": 2
}
