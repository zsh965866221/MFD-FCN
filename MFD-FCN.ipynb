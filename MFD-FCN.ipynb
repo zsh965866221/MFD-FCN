{
 "cells": [
  {
   "cell_type": "code",
   "execution_count": 1,
   "metadata": {},
   "outputs": [],
   "source": [
    "import numpy as np\n",
    "from matplotlib import pyplot as plt"
   ]
  },
  {
   "cell_type": "markdown",
   "metadata": {},
   "source": [
    "## Prepare Data set"
   ]
  },
  {
   "cell_type": "code",
   "execution_count": 2,
   "metadata": {},
   "outputs": [],
   "source": [
    "Data_Base_Path = './datas/UCR_TS_Archive_2015'"
   ]
  },
  {
   "cell_type": "code",
   "execution_count": 3,
   "metadata": {},
   "outputs": [
    {
     "name": "stdout",
     "output_type": "stream",
     "text": [
      "0: 50words\n",
      "1: Adiac\n",
      "2: ArrowHead\n",
      "3: Beef\n",
      "4: BeetleFly\n",
      "5: BirdChicken\n",
      "6: Car\n",
      "7: CBF\n",
      "8: ChlorineConcentration\n",
      "9: CinC_ECG_torso\n",
      "10: Coffee\n",
      "11: Computers\n",
      "12: Cricket_X\n",
      "13: Cricket_Y\n",
      "14: Cricket_Z\n",
      "15: DiatomSizeReduction\n",
      "16: DistalPhalanxOutlineAgeGroup\n",
      "17: DistalPhalanxOutlineCorrect\n",
      "18: DistalPhalanxTW\n",
      "19: Earthquakes\n",
      "20: ECG200\n",
      "21: ECG5000\n",
      "22: ECGFiveDays\n",
      "23: ElectricDevices\n",
      "24: FaceAll\n",
      "25: FaceFour\n",
      "26: FacesUCR\n",
      "27: FISH\n",
      "28: FordA\n",
      "29: FordB\n",
      "30: Gun_Point\n",
      "31: Ham\n",
      "32: HandOutlines\n",
      "33: Haptics\n",
      "34: Herring\n",
      "35: InlineSkate\n",
      "36: InsectWingbeatSound\n",
      "37: ItalyPowerDemand\n",
      "38: LargeKitchenAppliances\n",
      "39: Lighting2\n",
      "40: Lighting7\n",
      "41: MALLAT\n",
      "42: Meat\n",
      "43: MedicalImages\n",
      "44: MiddlePhalanxOutlineAgeGroup\n",
      "45: MiddlePhalanxOutlineCorrect\n",
      "46: MiddlePhalanxTW\n",
      "47: MoteStrain\n",
      "48: NonInvasiveFatalECG_Thorax1\n",
      "49: NonInvasiveFatalECG_Thorax2\n",
      "50: OliveOil\n",
      "51: OSULeaf\n",
      "52: PhalangesOutlinesCorrect\n",
      "53: Phoneme\n",
      "54: Plane\n",
      "55: ProximalPhalanxOutlineAgeGroup\n",
      "56: ProximalPhalanxOutlineCorrect\n",
      "57: ProximalPhalanxTW\n",
      "58: RefrigerationDevices\n",
      "59: ScreenType\n",
      "60: ShapeletSim\n",
      "61: ShapesAll\n",
      "62: SmallKitchenAppliances\n",
      "63: SonyAIBORobotSurface\n",
      "64: SonyAIBORobotSurfaceII\n",
      "65: StarLightCurves\n",
      "66: Strawberry\n",
      "67: SwedishLeaf\n",
      "68: Symbols\n",
      "69: synthetic_control\n",
      "70: ToeSegmentation1\n",
      "71: ToeSegmentation2\n",
      "72: Trace\n",
      "73: Two_Patterns\n",
      "74: TwoLeadECG\n",
      "75: uWaveGestureLibrary_X\n",
      "76: uWaveGestureLibrary_Y\n",
      "77: uWaveGestureLibrary_Z\n",
      "78: UWaveGestureLibraryAll\n",
      "79: wafer\n",
      "80: Wine\n",
      "81: WordsSynonyms\n",
      "82: Worms\n",
      "83: WormsTwoClass\n",
      "84: yoga\n"
     ]
    }
   ],
   "source": [
    "import os\n",
    "flist = [x for x in os.listdir(Data_Base_Path) if os.path.isdir(os.path.join(Data_Base_Path, x))]\n",
    "flist.sort(key=str.lower)\n",
    "for index, name in enumerate(flist):\n",
    "    print(\"%d: %s\"%(index, name))"
   ]
  },
  {
   "cell_type": "code",
   "execution_count": 4,
   "metadata": {},
   "outputs": [
    {
     "name": "stdout",
     "output_type": "stream",
     "text": [
      "Adiac\n"
     ]
    }
   ],
   "source": [
    "dataset_index = 1\n",
    "dataset_name = flist[dataset_index]\n",
    "print(dataset_name)"
   ]
  },
  {
   "cell_type": "code",
   "execution_count": 5,
   "metadata": {},
   "outputs": [],
   "source": [
    "epsilon = 1e-8"
   ]
  },
  {
   "cell_type": "code",
   "execution_count": 6,
   "metadata": {},
   "outputs": [],
   "source": [
    "def readData(filename):\n",
    "    data = np.loadtxt(filename, delimiter = ',')\n",
    "    Y = data[:,0]\n",
    "    X = data[:,1:]\n",
    "    return X, Y"
   ]
  },
  {
   "cell_type": "code",
   "execution_count": 7,
   "metadata": {},
   "outputs": [],
   "source": [
    "X_train, Y_train = readData('%s/%s/%s_TRAIN'%(Data_Base_Path, dataset_name, dataset_name))\n",
    "X_test, Y_test = readData('%s/%s/%s_TEST'%(Data_Base_Path, dataset_name, dataset_name))\n",
    "series_length = X_train.shape[1]\n",
    "nb_classes = len(np.unique(Y_train))\n",
    "N_train = X_train.shape[0]\n",
    "N_test = X_test.shape[0]\n",
    "Y_train = (Y_train - Y_train.min()) / (Y_train.max() - Y_train.min()) * (nb_classes - 1)\n",
    "Y_test = (Y_test - Y_test.min()) / (Y_test.max() - Y_test.min()) * (nb_classes - 1)\n",
    "\n",
    "## Normalization\n",
    "X_train_mean = X_train.mean()\n",
    "X_train_std = X_train.std()\n",
    "X_train = (X_train - X_train_mean) / (X_train_std + epsilon)\n",
    "X_test = (X_test - X_train_mean) / (X_train_std + epsilon)"
   ]
  },
  {
   "cell_type": "code",
   "execution_count": 8,
   "metadata": {},
   "outputs": [
    {
     "name": "stdout",
     "output_type": "stream",
     "text": [
      "Series length: 176\n",
      "Classes number: 37\n",
      "Train set Number: 390\n",
      "Test set Number: 391\n"
     ]
    }
   ],
   "source": [
    "print('''Series length: %d\n",
    "Classes number: %d\n",
    "Train set Number: %d\n",
    "Test set Number: %d'''%(series_length, nb_classes, N_train, N_test))"
   ]
  },
  {
   "cell_type": "code",
   "execution_count": 9,
   "metadata": {},
   "outputs": [
    {
     "data": {
      "text/plain": [
       "[<matplotlib.lines.Line2D at 0x2036fa76240>]"
      ]
     },
     "execution_count": 9,
     "metadata": {},
     "output_type": "execute_result"
    },
    {
     "data": {
      "image/png": "[encoded data removed]",
      "text/plain": [
       "<Figure size 432x288 with 1 Axes>"
      ]
     },
     "metadata": {},
     "output_type": "display_data"
    }
   ],
   "source": [
    "plt.plot(X_train[0,:])"
   ]
  },
  {
   "cell_type": "markdown",
   "metadata": {},
   "source": [
    "## MFD Layers"
   ]
  },
  {
   "cell_type": "code",
   "execution_count": 10,
   "metadata": {},
   "outputs": [
    {
     "name": "stderr",
     "output_type": "stream",
     "text": [
      "Using TensorFlow backend.\n"
     ]
    }
   ],
   "source": [
    "import keras\n",
    "from keras.engine.topology import Layer\n",
    "import tensorflow as tf"
   ]
  },
  {
   "cell_type": "code",
   "execution_count": 11,
   "metadata": {},
   "outputs": [],
   "source": [
    "class MRFFT(Layer):\n",
    "    def compute_output_shape(self,input_shape):\n",
    "        o_shape=[input_shape]*2\n",
    "        return o_shape\n",
    "    def call(self,inputs):\n",
    "        t=tf.unstack(inputs,axis=2)\n",
    "        ft=[tf.expand_dims(tf.spectral.rfft(k),-1) for k in t]\n",
    "        ft=tf.concat(ft,-1)\n",
    "        ift=tf.imag(ft)\n",
    "        return [rft,ift]\n",
    "class MIRFFT(Layer):\n",
    "    def compute_output_shape(self,input_shape):\n",
    "        return input_shape[0]\n",
    "    def call(self,inputs):\n",
    "        rft=inputs[0]\n",
    "        ift=inputs[1]\n",
    "        ft=tf.complex(rft,ift)\n",
    "        t=tf.unstack(ft,axis=2)\n",
    "        tt=[tf.expand_dims(tf.spectral.irfft(k),-1) for k in t]\n",
    "        tt=tf.concat(tt,-1)\n",
    "        return tt\n",
    "class MFD_FFT(Layer):\n",
    "    def __init__(self,in_shape,num_p,**kwargs):\n",
    "        self.num_p = num_p\n",
    "        self.in_shape=in_shape\n",
    "        super(MFD_FFT,self).__init__(**kwargs)\n",
    "        \n",
    "    def compute_output_shape(self,input_shape):\n",
    "        o_shape=input_shape[:2]+(self.num_p,input_shape[-1],)\n",
    "        return o_shape\n",
    "    \n",
    "    def call(self,inputs):\n",
    "        t=tf.unstack(inputs,axis=2)\n",
    "        ft=[tf.expand_dims(tf.spectral.rfft(k),-1) for k in t]\n",
    "        ft=tf.concat(ft,-1)\n",
    "        fshape=self.in_shape\n",
    "        \n",
    "        m=fshape%self.num_p\n",
    "        if m!=0:\n",
    "            d=fshape//(self.num_p-1)\n",
    "            _m=fshape%(self.num_p-1)\n",
    "            if _m==0:\n",
    "                _d=fshape//self.num_p-1\n",
    "                _m1=fshape-_d*(self.num_p-1)\n",
    "        else:\n",
    "            d=fshape//self.num_p\n",
    "        if m!=0:\n",
    "            if _m==0:\n",
    "                sp=tf.split(ft,[_d for _ in range(self.num_p-1)]+[_m1,],axis=1)\n",
    "            else:\n",
    "                sp=tf.split(ft,[d for _ in range(self.num_p-1)]+[_m,],axis=1)\n",
    "        else:\n",
    "            sp=tf.split(ft,[d for _ in range(self.num_p)],axis=1)\n",
    "            \n",
    "        at=None\n",
    "        for i in range(self.num_p):\n",
    "            t=None\n",
    "            for k in range(self.num_p):\n",
    "                if i!=k:\n",
    "                    tp=sp[k]*0.\n",
    "                else:\n",
    "                    tp=sp[k]*1.\n",
    "                if t is None:\n",
    "                    t=tp\n",
    "                else:\n",
    "                    t=tf.concat([t,tp],1)\n",
    "                    \n",
    "            s=t\n",
    "            ts=tf.unstack(s,axis=2)\n",
    "            ts=[tf.expand_dims(tf.spectral.irfft(k),-1) for k in ts]\n",
    "            s=tf.concat(ts,-1)\n",
    "            if at is None:\n",
    "                at=tf.expand_dims(s,2)\n",
    "            else:\n",
    "                at=tf.concat([at,tf.expand_dims(s,2)],2)\n",
    "        return at"
   ]
  },
  {
   "cell_type": "markdown",
   "metadata": {},
   "source": [
    "## Build Network Model"
   ]
  },
  {
   "cell_type": "code",
   "execution_count": 21,
   "metadata": {},
   "outputs": [],
   "source": [
    "from keras.models import Model\n",
    "from keras.utils import to_categorical\n",
    "from keras.layers import Input, Activation, GlobalAveragePooling2D\n",
    "from keras.layers import Dense,Conv1D, Conv2D, BatchNormalization\n",
    "from keras.regularizers import l1, l2, l1_l2\n",
    "from keras.callbacks import Callback, ReduceLROnPlateau, ModelCheckpoint\n",
    "from keras.optimizers import Adam\n",
    "import logging"
   ]
  },
  {
   "cell_type": "code",
   "execution_count": 13,
   "metadata": {},
   "outputs": [],
   "source": [
    "X_train = X_train.reshape(X_train.shape + (1,))\n",
    "X_test = X_test.reshape(X_test.shape + (1,))\n",
    "Y_train = to_categorical(Y_train, nb_classes)\n",
    "Y_test = to_categorical(Y_test, nb_classes)"
   ]
  },
  {
   "cell_type": "code",
   "execution_count": 14,
   "metadata": {},
   "outputs": [
    {
     "name": "stdout",
     "output_type": "stream",
     "text": [
      "_________________________________________________________________\n",
      "Layer (type)                 Output Shape              Param #   \n",
      "=================================================================\n",
      "input_1 (InputLayer)         (None, 176, 1)            0         \n",
      "_________________________________________________________________\n",
      "conv1d_1 (Conv1D)            (None, 176, 64)           576       \n",
      "_________________________________________________________________\n",
      "batch_normalization_1 (Batch (None, 176, 64)           256       \n",
      "_________________________________________________________________\n",
      "activation_1 (Activation)    (None, 176, 64)           0         \n",
      "_________________________________________________________________\n",
      "mfd_fft_1 (MFD_FFT)          (None, 176, 6, 64)        0         \n",
      "_________________________________________________________________\n",
      "batch_normalization_2 (Batch (None, 176, 6, 64)        256       \n",
      "_________________________________________________________________\n",
      "conv2d_1 (Conv2D)            (None, 176, 6, 128)       41088     \n",
      "_________________________________________________________________\n",
      "batch_normalization_3 (Batch (None, 176, 6, 128)       512       \n",
      "_________________________________________________________________\n",
      "activation_2 (Activation)    (None, 176, 6, 128)       0         \n",
      "_________________________________________________________________\n",
      "conv2d_2 (Conv2D)            (None, 174, 1, 256)       590080    \n",
      "_________________________________________________________________\n",
      "batch_normalization_4 (Batch (None, 174, 1, 256)       1024      \n",
      "_________________________________________________________________\n",
      "activation_3 (Activation)    (None, 174, 1, 256)       0         \n",
      "_________________________________________________________________\n",
      "global_average_pooling2d_1 ( (None, 256)               0         \n",
      "_________________________________________________________________\n",
      "dense_1 (Dense)              (None, 37)                9509      \n",
      "=================================================================\n",
      "Total params: 643,301\n",
      "Trainable params: 642,277\n",
      "Non-trainable params: 1,024\n",
      "_________________________________________________________________\n"
     ]
    }
   ],
   "source": [
    "## model\n",
    "input_x = Input(shape = (series_length, 1))\n",
    "y = Conv1D(64, kernel_size=8, padding='same', kernel_initializer='he_uniform', \n",
    "           kernel_regularizer=l2(1e-3), bias_regularizer=l2(1e-3))(input_x)\n",
    "y = BatchNormalization()(y)\n",
    "y = Activation('relu')(y)\n",
    "\n",
    "y = MFD_FFT(in_shape=series_length//2+1, num_p=6)(y)\n",
    "y = BatchNormalization()(y)\n",
    "y = Conv2D(128, kernel_size=(5,1), padding='same', kernel_initializer='he_uniform', \n",
    "           kernel_regularizer=l2(1e-3), bias_regularizer=l2(1e-3))(y)\n",
    "y = BatchNormalization()(y)\n",
    "y = Activation('relu')(y)\n",
    "\n",
    "y = Conv2D(256, kernel_size=(3,6), kernel_initializer='he_uniform', \n",
    "           kernel_regularizer=l2(1e-3), bias_regularizer=l2(1e-3))(y)\n",
    "y = BatchNormalization()(y)\n",
    "y = Activation('relu')(y)\n",
    "\n",
    "y = GlobalAveragePooling2D()(y)\n",
    "output_y = Dense(nb_classes, activation='softmax', \n",
    "                 kernel_regularizer=l2(1e-3), bias_regularizer=l2(1e-3))(y)\n",
    "\n",
    "model = Model(input_x, output_y)\n",
    "model.summary()"
   ]
  },
  {
   "cell_type": "code",
   "execution_count": 15,
   "metadata": {},
   "outputs": [],
   "source": [
    "def MPCE(y_true,y_pred):\n",
    "    C={}\n",
    "    for k in y_true:\n",
    "        if k in C.keys():\n",
    "            C[k]+=1\n",
    "        else:\n",
    "            C[k]=1\n",
    "    loss=0\n",
    "    for i in range(len(y_true)):\n",
    "        if y_true[i]!=y_pred[i]:\n",
    "            loss+=(1/C[y_true[i]])\n",
    "    loss/=nb_classes\n",
    "    return loss"
   ]
  },
  {
   "cell_type": "code",
   "execution_count": 16,
   "metadata": {},
   "outputs": [],
   "source": [
    "class MPCECallback(Callback):\n",
    "    def on_epoch_end(self,epoch,logs=None):\n",
    "        y_pred=np.argmax(self.model.predict(X_test),axis=1)\n",
    "        y_t=np.argmax(y_test,axis=1)\n",
    "        l=MPCE(y_t,y_pred)\n",
    "        logs['MPCE']=l\n",
    "class HistoryLogger(Callback):\n",
    "    def on_train_begin(self,logs=None):\n",
    "        logging.warning('Begin Training............')\n",
    "        self.best_acc=0.0\n",
    "        self.best_mpce=1.0\n",
    "    def on_epoch_end(self,epoch,logs=None):\n",
    "        loss=logs['loss']\n",
    "        acc=logs['acc']*100\n",
    "        val_loss=logs['val_loss']\n",
    "        val_acc=logs['val_acc']*100\n",
    "        mpce=logs['MPCE']\n",
    "        if val_acc>=self.best_acc:\n",
    "            self.best_acc=val_acc\n",
    "        if mpce<=self.best_mpce:\n",
    "            self.best_mpce=mpce\n",
    "        logging.info('%4d - over - loss: %.4f, acc: %.2f | val_loss: %.4f, val_acc: %.2f, MPCE:%.4f | best_acc: %.2f, best_mpce:%.4f'%(epoch,loss,acc,val_loss,val_acc,mpce,self.best_acc,self.best_mpce))\n",
    "    def on_train_end(self,logs=None):\n",
    "        logging.warning('End Training............')"
   ]
  },
  {
   "cell_type": "code",
   "execution_count": 17,
   "metadata": {},
   "outputs": [],
   "source": [
    "model_checkpoint = ModelCheckpoint('./weights/%s_weights.h5' % dataset_name, \n",
    "                                   verbose=1, monitor='val_acc', save_best_only=True, \n",
    "                                   save_weights_only=True)\n",
    "reduce_lr = ReduceLROnPlateau(monitor='val_loss', patience=30, mode='auto', \n",
    "                              factor=1.0/np.cbrt(2), cooldown=0, min_lr=1e-5, verbose=1)\n",
    "callback_list = [model_checkpoint, reduce_lr, MPCECallback(), HistoryLogger()]"
   ]
  },
  {
   "cell_type": "markdown",
   "metadata": {},
   "source": [
    "## Train"
   ]
  },
  {
   "cell_type": "code",
   "execution_count": 18,
   "metadata": {},
   "outputs": [],
   "source": [
    "epochs = 2000\n",
    "batch_size = 20\n",
    "learning_rate = 1e-3"
   ]
  },
  {
   "cell_type": "code",
   "execution_count": 19,
   "metadata": {},
   "outputs": [],
   "source": [
    "optim = Adam(lr=learning_rate)\n",
    "model.compile(optimizer=optim, loss='categorical_crossentropy', metrics=['accuracy'])"
   ]
  },
  {
   "cell_type": "code",
   "execution_count": null,
   "metadata": {},
   "outputs": [
    {
     "name": "stderr",
     "output_type": "stream",
     "text": [
      "WARNING:root:Begin Training............\n"
     ]
    },
    {
     "name": "stdout",
     "output_type": "stream",
     "text": [
      "Train on 390 samples, validate on 391 samples\n",
      "Epoch 1/2000\n"
     ]
    }
   ],
   "source": [
    "hist = model.fit(X_train, Y_train, batch_size=batch_size, epochs=epochs, callbacks=callback_list, \n",
    "                 verbose=1, validation_data=(X_test, Y_test))"
   ]
  },
  {
   "cell_type": "code",
   "execution_count": null,
   "metadata": {},
   "outputs": [],
   "source": []
  }
 ],
 "metadata": {
  "kernelspec": {
   "display_name": "Python 3",
   "language": "python",
   "name": "python3"
  },
  "language_info": {
   "codemirror_mode": {
    "name": "ipython",
    "version": 3
   },
   "file_extension": ".py",
   "mimetype": "text/x-python",
   "name": "python",
   "nbconvert_exporter": "python",
   "pygments_lexer": "ipython3",
   "version": "3.6.5"
  }
 },
 "nbformat": 4,
 "nbformat_minor": 2
}
